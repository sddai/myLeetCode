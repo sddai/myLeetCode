{
 "cells": [
  {
   "cell_type": "code",
   "execution_count": null,
   "id": "b7673357-cf9b-497c-815e-053f46f60814",
   "metadata": {},
   "outputs": [],
   "source": [
    "# 一种思路：把“一条线路含有哪些公交站”转换成“某个公交站接入了哪些线路”，然后一条线路上的所有车站看做一个整体，BFS\n",
    "# 【本题的出错点在于，没有很好的处理depth+=1的位置，最好的方案是每次找到neighbor之后把当前的depth一起append到queue中】\n",
    "class Solution:\n",
    "    def numBusesToDestination(self, routes: List[List[int]], source: int, target: int) -> int:\n",
    "        num_routes = len(routes)\n",
    "        stations = defaultdict(list)\n",
    "        for i, route in enumerate(routes):\n",
    "            for station in route:\n",
    "                stations[station].append(i)\n",
    "        print(stations)\n",
    "        visited_stations = set([])\n",
    "        visited_routes = set([])\n",
    "        queue = [source]\n",
    "        visited_stations.add(source)\n",
    "        depth = 0\n",
    "        while queue:\n",
    "            station = queue.pop(0)\n",
    "            if station == target :\n",
    "                return depth\n",
    "            # if station not in visited_stations:\n",
    "            # depth += 1  # 注意depth++的位置\n",
    "            for route in stations[station]:\n",
    "                if route not in visited_routes:\n",
    "                    for neighbor in routes[route]:  # 这里有问题：stations[station]是当前neighbor所属的线路号，routes[线路号]是它能访问到的stations\n",
    "                        if  neighbor not in visited_stations:  # 考虑另一个条件：neighbor != target and ...\n",
    "                            queue.append(neighbor)\n",
    "                            visited_stations.add(neighbor)\n",
    "                            visited_routes.add(route)\n",
    "                            \n",
    "                            # depth +=1\n",
    "                        # elif neighbor == target :\n",
    "                        #     return depth\n",
    "            depth += 1       \n",
    "                \n",
    "        return -1\n",
    "\n",
    "                \n",
    "\n",
    "'''\n",
    "没过的测试用例\n",
    "输入：\n",
    "[[2],[2,8]]\n",
    "8\n",
    "2\n",
    "输出：\n",
    "-1\n",
    "stdout\n",
    "defaultdict(<class 'list'>, {2: [0, 1], 8: [1]})\n",
    "预期结果：\n",
    "1\n",
    "'''\n",
    "\n",
    "        # buses = defaultdict(list)\n",
    "        # for i in range(num_routes):\n",
    "        #     buses[i] = routes\n",
    "        # visited = set([])\n",
    "        # for route in routes:\n",
    "        #     curr_layer = []\n",
    "        #     for station in route:\n",
    "        #         if station not in visited:\n",
    "        #             curr_layer.append(station)\n",
    "        #             visited.add(station)\n",
    "        #     curr_station = curr_layer.pop(0)\n",
    "        #     while curr_station:\n",
    "        #         for neighbor in routes[curr_station]:"
   ]
  },
  {
   "cell_type": "code",
   "execution_count": 1,
   "id": "f138198d-0bd9-48d4-ac5a-462edade6d31",
   "metadata": {
    "tags": []
   },
   "outputs": [],
   "source": [
    "from collections import deque\n"
   ]
  },
  {
   "cell_type": "code",
   "execution_count": 2,
   "id": "a8625c3f-b2cb-45d4-9cb3-0d1b4b7247f7",
   "metadata": {
    "tags": []
   },
   "outputs": [],
   "source": [
    "q = deque([0, 1, 2, 3, 4, 5, 6])"
   ]
  },
  {
   "cell_type": "code",
   "execution_count": 3,
   "id": "18e2e289-5f84-40a1-873e-b1b49e3907cf",
   "metadata": {
    "tags": []
   },
   "outputs": [
    {
     "data": {
      "text/plain": [
       "0"
      ]
     },
     "execution_count": 3,
     "metadata": {},
     "output_type": "execute_result"
    }
   ],
   "source": [
    "q.popleft()"
   ]
  },
  {
   "cell_type": "code",
   "execution_count": 4,
   "id": "8c1079c3-3e27-4370-b528-e521217f0117",
   "metadata": {
    "tags": []
   },
   "outputs": [
    {
     "data": {
      "text/plain": [
       "deque([1, 2, 3, 4, 5, 6])"
      ]
     },
     "execution_count": 4,
     "metadata": {},
     "output_type": "execute_result"
    }
   ],
   "source": [
    "q\n"
   ]
  },
  {
   "cell_type": "code",
   "execution_count": 6,
   "id": "7c13e558-1699-4d52-a50e-878b04e92a29",
   "metadata": {
    "tags": []
   },
   "outputs": [
    {
     "data": {
      "text/plain": [
       "6"
      ]
     },
     "execution_count": 6,
     "metadata": {},
     "output_type": "execute_result"
    }
   ],
   "source": [
    "q.pop()"
   ]
  },
  {
   "cell_type": "code",
   "execution_count": 7,
   "id": "9caa86e5-7246-493e-be29-41bc11d169b6",
   "metadata": {
    "tags": []
   },
   "outputs": [
    {
     "data": {
      "text/plain": [
       "deque([1, 2, 3, 4, 5])"
      ]
     },
     "execution_count": 7,
     "metadata": {},
     "output_type": "execute_result"
    }
   ],
   "source": [
    "q"
   ]
  },
  {
   "cell_type": "code",
   "execution_count": null,
   "id": "431cdd70-cca3-47af-887b-fe628c5929a5",
   "metadata": {},
   "outputs": [],
   "source": []
  }
 ],
 "metadata": {
  "kernelspec": {
   "display_name": "Python 3 (ipykernel)",
   "language": "python",
   "name": "python3"
  },
  "language_info": {
   "codemirror_mode": {
    "name": "ipython",
    "version": 3
   },
   "file_extension": ".py",
   "mimetype": "text/x-python",
   "name": "python",
   "nbconvert_exporter": "python",
   "pygments_lexer": "ipython3",
   "version": "3.8.10"
  }
 },
 "nbformat": 4,
 "nbformat_minor": 5
}
