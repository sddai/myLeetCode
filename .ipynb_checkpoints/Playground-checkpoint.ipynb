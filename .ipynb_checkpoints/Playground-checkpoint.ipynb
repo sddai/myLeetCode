{
 "cells": [
  {
   "cell_type": "markdown",
   "id": "d730bc51-41b5-4463-84af-bf1ef2544d5a",
   "metadata": {},
   "source": [
    "### def rob( nums ) -> int:\n",
    "    l = len(nums)\n",
    "    dp = [0 for i in range(l)]\n",
    "    if l >=1:\n",
    "        dp[0] = nums[0]\n",
    "    if l >= 2:\n",
    "        dp[1] = max(nums[0], nums[1])\n",
    "    if l == 1:\n",
    "        return nums[0]\n",
    "    if l == 2:\n",
    "         return max(nums[0], nums[1]) \n",
    "    def max_from_start_2_end(start, end): #l>=3\n",
    "        dp[start] = nums[start]\n",
    "        dp[start+1] = max(nums[start], nums[start+1])  # 注意进入子函数之后要重新初始化子函数的第一个和第二个dp值\n",
    "        if end == start+1:\n",
    "            return dp[end]\n",
    "        if end > start + 1:\n",
    "            for i in range(start + 2, end + 1):\n",
    "                dp[i] = max(\n",
    "                    nums[i] + dp[i-2], \n",
    "                    dp[i-1] \n",
    "                ) \n",
    "                print(f\"dp[{i}] = {dp[i]}\")    \n",
    "            for i in range(start + 2, end + 1):\n",
    "                print(f\"---dp[{i}] = {dp[i]}\") \n",
    "            return dp[end]\n",
    "    # print(max_from_start_2_end(0, l-2), max_from_start_2_end(1, l-1))\n",
    "    return max(max_from_start_2_end(0, l-2), max_from_start_2_end(1, l-1))"
   ]
  },
  {
   "cell_type": "code",
   "execution_count": 39,
   "id": "af1dcec1-9486-4089-8fc0-fe62edca4371",
   "metadata": {
    "tags": []
   },
   "outputs": [
    {
     "name": "stdout",
     "output_type": "stream",
     "text": [
      "dp[2] = 340\n",
      "dp[3] = 340\n",
      "---dp[2] = 340\n",
      "---dp[3] = 340\n",
      "dp[3] = 140\n",
      "dp[4] = 150\n",
      "---dp[3] = 140\n",
      "---dp[4] = 150\n"
     ]
    },
    {
     "data": {
      "text/plain": [
       "340"
      ]
     },
     "execution_count": 39,
     "metadata": {},
     "output_type": "execute_result"
    }
   ],
   "source": [
    "rob([200,3,140,20,10]) "
   ]
  },
  {
   "cell_type": "code",
   "execution_count": 40,
   "id": "17d6ab58-9c42-40a9-b895-f0f3ca8ae737",
   "metadata": {
    "tags": []
   },
   "outputs": [
    {
     "data": {
      "text/plain": [
       "3"
      ]
     },
     "execution_count": 40,
     "metadata": {},
     "output_type": "execute_result"
    }
   ],
   "source": [
    "rob([2, 3, 2])"
   ]
  },
  {
   "cell_type": "code",
   "execution_count": 25,
   "id": "af9f22b7-eb86-4e5d-adc2-4da6f60fd95d",
   "metadata": {},
   "outputs": [],
   "source": [
    "def canJump(nums: [int]) -> bool:\n",
    "    l = len(nums)\n",
    "    dp = [False for i in range(l)]\n",
    "    if l == 0 or l == 1:\n",
    "        return True\n",
    "    if l == 2:\n",
    "        return nums[0] > 0\n",
    "    dp[0] = True\n",
    "    dp[1] = (nums[0] > 0)\n",
    "    for i in range(2, l):\n",
    "        for j in range(nums[i]):\n",
    "            if(i+j+1 <= l-1):\n",
    "                dp[i+j+1] = True\n",
    "    print(dp)\n",
    "    return dp[l-1]\n",
    "\n",
    "# print(canJump([2,3,1,1,4]))"
   ]
  },
  {
   "cell_type": "code",
   "execution_count": 26,
   "id": "c53803c9-2c5d-4c9a-a1dd-cf78bd2f56b3",
   "metadata": {
    "tags": []
   },
   "outputs": [
    {
     "name": "stdout",
     "output_type": "stream",
     "text": [
      "[True, True, False, True, False]\n"
     ]
    },
    {
     "data": {
      "text/plain": [
       "False"
      ]
     },
     "execution_count": 26,
     "metadata": {},
     "output_type": "execute_result"
    }
   ],
   "source": [
    "canJump([3,2,1,0,4])"
   ]
  },
  {
   "cell_type": "code",
   "execution_count": 22,
   "id": "fa885abb-bfa9-4bbb-99c0-0d6fadba7cfd",
   "metadata": {
    "tags": []
   },
   "outputs": [],
   "source": [
    "for i in range(1, 1):\n",
    "    print(i)"
   ]
  },
  {
   "cell_type": "code",
   "execution_count": 16,
   "id": "814cabf0-50ac-4f09-bbc1-2326e99309d4",
   "metadata": {
    "tags": []
   },
   "outputs": [
    {
     "name": "stdout",
     "output_type": "stream",
     "text": [
      "range(0, 0)\n"
     ]
    }
   ],
   "source": [
    "print(range(0))"
   ]
  },
  {
   "cell_type": "code",
   "execution_count": 27,
   "id": "6c4fb22a-13da-4bb5-bf56-d5baa3d85ee7",
   "metadata": {
    "tags": []
   },
   "outputs": [],
   "source": [
    "d1 = dict()"
   ]
  },
  {
   "cell_type": "code",
   "execution_count": 28,
   "id": "da87f6ff-eb73-4cd2-a9fc-01a0ff48ae2f",
   "metadata": {
    "tags": []
   },
   "outputs": [],
   "source": [
    "d1[1] = 'hello'"
   ]
  },
  {
   "cell_type": "code",
   "execution_count": 29,
   "id": "7e3f2999-8e1b-4a59-ad89-0f2707e99f67",
   "metadata": {
    "tags": []
   },
   "outputs": [
    {
     "data": {
      "text/plain": [
       "{1: 'hello'}"
      ]
     },
     "execution_count": 29,
     "metadata": {},
     "output_type": "execute_result"
    }
   ],
   "source": [
    "d1\n"
   ]
  },
  {
   "cell_type": "code",
   "execution_count": 30,
   "id": "15dc057a-52dc-4451-b3ae-d40d0cd2a148",
   "metadata": {
    "tags": []
   },
   "outputs": [],
   "source": [
    "d1[1] = 9"
   ]
  },
  {
   "cell_type": "code",
   "execution_count": 31,
   "id": "1b739a64-6dc4-43eb-b6da-fbcf3f72145f",
   "metadata": {
    "tags": []
   },
   "outputs": [
    {
     "data": {
      "text/plain": [
       "{1: 9}"
      ]
     },
     "execution_count": 31,
     "metadata": {},
     "output_type": "execute_result"
    }
   ],
   "source": [
    "d1"
   ]
  },
  {
   "cell_type": "code",
   "execution_count": 32,
   "id": "f5a5c916-58d6-4baa-bd0e-7fa9805852aa",
   "metadata": {},
   "outputs": [],
   "source": [
    "a = 2\n",
    "b = 3\n"
   ]
  },
  {
   "cell_type": "code",
   "execution_count": 33,
   "id": "f5812e75-c924-4bb6-8604-a048d9a14ea4",
   "metadata": {
    "tags": []
   },
   "outputs": [],
   "source": [
    "c = (a+b)>> 2"
   ]
  },
  {
   "cell_type": "code",
   "execution_count": 34,
   "id": "c7a9bb32-1572-4102-b644-c283c37d2c92",
   "metadata": {
    "tags": []
   },
   "outputs": [
    {
     "data": {
      "text/plain": [
       "1"
      ]
     },
     "execution_count": 34,
     "metadata": {},
     "output_type": "execute_result"
    }
   ],
   "source": [
    "c"
   ]
  },
  {
   "cell_type": "code",
   "execution_count": 35,
   "id": "061e8c41-90b9-43fd-934f-480f2c1a8cd4",
   "metadata": {
    "tags": []
   },
   "outputs": [
    {
     "data": {
      "text/plain": [
       "0"
      ]
     },
     "execution_count": 35,
     "metadata": {},
     "output_type": "execute_result"
    }
   ],
   "source": [
    "1>>2"
   ]
  },
  {
   "cell_type": "code",
   "execution_count": 36,
   "id": "f281f379-746b-4f5c-b03d-1a0934ef2f3c",
   "metadata": {},
   "outputs": [],
   "source": [
    "'''代码分两大块：第一大块，枚举所有的联通分量；第二大块，遍历所有的0，计算把0翻转成1的新面积'''\n",
    "    def largestIsland( grid:  [ [int]]) -> int:\n",
    "        n = len(grid)\n",
    "        tag = [[0] * n for _ in range(n)]   # 标记是否访问过\n",
    "        area = Counter()  # 记录每个陆地的面积\n",
    "        def dfs(i: int, j: int) -> None:  # 四个方向\n",
    "            tag[i][j] = t   # 访问过\n",
    "            area[t] += 1    # \n",
    "            for x, y in (i - 1, j), (i + 1, j), (i, j - 1), (i, j + 1):  # 四个方向\n",
    "                if 0 <= x < n and 0 <= y < n and grid[x][y] and tag[x][y] == 0:  # 枚举可以添加陆地的位置\n",
    "                    dfs(x, y)  # 四个方向\n",
    "        for i, row in enumerate(grid):  # 两层for循环遍历整个grid\n",
    "            for j, x in enumerate(row):   # 两层for循环遍历整个grid\n",
    "                if x and tag[i][j] == 0:  # 枚举没有访问过的陆地\n",
    "                    t = i * n + j + 1  # 枚举陆地的位置\n",
    "                    dfs(i, j)  # 四个方向\n",
    "        ans = max(area.values(), default=0)  # 记录每个陆地的面积\n",
    "\n",
    "        for i, row in enumerate(grid):  \n",
    "            for j, x in enumerate(row):   # 两层for循环遍历整个grid\n",
    "                if x == 0:  # 枚举可以添加陆地的位置\n",
    "                    new_area = 1  # 记录每个陆地的面积\n",
    "                    connected = {0}  # 记录已经访问过的陆地\n",
    "                    for x, y in (i - 1, j), (i + 1, j), (i, j - 1), (i, j + 1):  # 四个方向\n",
    "                        if 0 <= x < n and 0 <= y < n and tag[x][y] not in connected:  # 枚举可以添加陆地的位置\n",
    "                            new_area += area[tag[x][y]]  # 计算新的面积\n",
    "                            connected.add(tag[x][y])  # 记录已经访问过的陆地\n",
    "                    ans = max(ans, new_area)  # 记录每个陆地的面积\n",
    "        return ans  # 返回最大面积\n",
    "\n",
    "    \n",
    "# 自己写的代码：\n",
    "class Solution:\n",
    "    def largestIsland(self, grid: List[List[int]]) -> int:\n",
    "        m = len(grid)\n",
    "        n = len(grid[0])\n",
    "        colors = [[0]*n for i in range(m)] # 给连成一片的岛屿染成同种颜色\n",
    "        color = 0\n",
    "        area = dict()   # 记录每个岛屿的面积\n",
    "        def getArea(i:int, j:int) -> int:\n",
    "            for x, y in [[i+1, j], [i-1, j], [i, j+1], [i, j-1]]:\n",
    "                if (x >=0 and y >= 0 and x < m and y < n) and grid[x][y] == 1  and colors[x][y] == 0:\n",
    "                    colors[x][y] = color\n",
    "                    area[color] += 1\n",
    "                    getArea(x, y)\n",
    "            return area[color]\n",
    "        for i in range(m):\n",
    "            for j in range(n):\n",
    "                if grid[i][j] == 1 and colors[i][j] == 0:\n",
    "                    color += 1\n",
    "                    colors[i][j] = color\n",
    "                    area[color] = 1\n",
    "                    getArea(i, j)\n",
    "        print(area)\n",
    "        ans = 0\n",
    "        print(area.values())\n",
    "        visitedColor = set([0])\n",
    "        for i in range(m):\n",
    "            for j in range(n):\n",
    "                if grid[i][j] == 0:\n",
    "                    newArea = 1\n",
    "                    for x, y in [[i+1, j], [i-1, j], [i, j+1], [i, j-1]]:\n",
    "                        if (x >=0 and y >= 0 and x < m and y < n) and (colors[x][y] not in visitedColor):\n",
    "                            visitedColor.add(colors[x][y])\n",
    "                            newArea += area[colors[x][y]]\n",
    "                        ans = max(ans, newArea)\n",
    "        maxArea = max(area.values(), default=0)\n",
    "        return max(ans, maxArea)\n",
    "    \n",
    "'''没过的测试用例：\n",
    "输入：\n",
    "[[0,0],[0,0]]\n",
    "输出：\n",
    "0\n",
    "预期结果：\n",
    "1\n",
    "\n",
    "输入：\n",
    "[[0,0,0,0,0,0,0],[0,1,1,1,1,0,0],[0,1,0,0,1,0,0],[1,0,1,0,1,0,0],[0,1,0,0,1,0,0],[0,1,0,0,1,0,0],[0,1,1,1,1,0,0]]\n",
    "输出：\n",
    "16\n",
    "\n",
    "stdout\n",
    "area = {1: 15, 2: 1, 3: 1}\n",
    "dict_values([15, 1, 1])\n",
    "\n",
    "预期结果：\n",
    "18\n",
    "'''"
   ]
  },
  {
   "cell_type": "code",
   "execution_count": 43,
   "id": "10492e94-012f-4db9-babd-78f5e1e13be4",
   "metadata": {},
   "outputs": [],
   "source": [
    "a = \"+\"\n",
    "b = \"-\"\n",
    "c = \"*\"\n",
    "d = \"/\"\n"
   ]
  },
  {
   "cell_type": "code",
   "execution_count": 44,
   "id": "d03678d4-4153-4fc2-8957-737024dfc47e",
   "metadata": {
    "tags": []
   },
   "outputs": [
    {
     "data": {
      "text/plain": [
       "0"
      ]
     },
     "execution_count": 44,
     "metadata": {},
     "output_type": "execute_result"
    }
   ],
   "source": [
    "num1 = 3\n",
    "num2 = 4\n",
    "eval(str(num1) + d + str(num2))"
   ]
  },
  {
   "cell_type": "code",
   "execution_count": 40,
   "id": "3c4f6fa8-3969-4f9a-b7db-1f9d17d3037e",
   "metadata": {
    "tags": []
   },
   "outputs": [
    {
     "data": {
      "text/plain": [
       "8"
      ]
     },
     "execution_count": 40,
     "metadata": {},
     "output_type": "execute_result"
    }
   ],
   "source": []
  },
  {
   "cell_type": "code",
   "execution_count": null,
   "id": "b10a88e8-8837-44e7-a107-ce8a60ed15a6",
   "metadata": {},
   "outputs": [],
   "source": [
    "class Solution:\n",
    "    def evalRPN(self, tokens: List[str]) -> int:\n",
    "        stack = []\n",
    "        # currToken = tokens[0]\n",
    "        if len(tokens) == 1:\n",
    "            return int(tokens[0])\n",
    "        for i, currToken in enumerate(tokens):\n",
    "            print(stack)\n",
    "            if currToken.isdecimal() == True or (currToken[0]==\"-\" and currToken[1::].isdecimal()== True):\n",
    "                stack.append(int(currToken))\n",
    "            elif currToken in set([\"+\", \"-\", \"*\", \"/\"]):\n",
    "                num1 = stack.pop()\n",
    "                # if len(stack) == 0:\n",
    "                #     return num1\n",
    "                # else:\n",
    "                num2 = stack.pop()\n",
    "                if currToken == \"+\":\n",
    "                    ans = num2 + num1\n",
    "                if currToken == \"-\":\n",
    "                    ans = num2 - num1\n",
    "                if currToken == \"*\":\n",
    "                    ans = num2 * num1\n",
    "                if currToken == \"/\":\n",
    "                    if abs(num1) * abs(num2) >= 0:\n",
    "                        ans = abs(num2) // abs(num1)\n",
    "                    else:\n",
    "                        ans = -1 * abs(num2) // abs(num1)\n",
    "                stack.append(ans)\n",
    "            # currToken = stack.pop()\n",
    "        ans = stack.pop()\n",
    "        # print(6//(-132))\n",
    "        # currToken = \"-2\"\n",
    "        # print((currToken in set([\"+\", \"-\", \"*\", \"/\"])))\n",
    "        num1 = -2\n",
    "        num2 = 4\n",
    "        print(abs(num2) // abs(num1))\n",
    "        return ans\n",
    "                \n",
    "                \n",
    "\"\"\"\n",
    "通过测试用例：\n",
    "12 / 20\n",
    "输入：\n",
    "[\"4\",\"-2\",\"/\",\"2\",\"-3\",\"-\",\"-\"]\n",
    "输出：\n",
    "-3\n",
    "stdout\n",
    "[]\n",
    "['4']\n",
    "['4', '-2']\n",
    "[2]\n",
    "[2, '2']\n",
    "[2, '2', '-3']\n",
    "[2, 5]\n",
    "2\n",
    "\n",
    "预期结果：\n",
    "-7\n",
    "\n",
    "说明除法处理的不对\n",
    "\"\"\""
   ]
  },
  {
   "cell_type": "code",
   "execution_count": null,
   "id": "c33c6f36-2ad1-48c3-973d-ee63a0c3ddc0",
   "metadata": {},
   "outputs": [],
   "source": []
  },
  {
   "cell_type": "code",
   "execution_count": null,
   "id": "8a1016aa-ba02-42eb-ac58-b60cbb43de86",
   "metadata": {},
   "outputs": [],
   "source": [
    "# 下边这段代码超时了\n",
    "# 1926. 迷宫中离入口最近的出口\n",
    "class Solution:\n",
    "    def nearestExit(self, maze: List[List[str]], entrance: List[int]) -> int:\n",
    "        m = len(maze)\n",
    "        n = len(maze[0])\n",
    "        print(maze)\n",
    "        print(m, n)\n",
    "        queue = []\n",
    "        queue.append([entrance, 0])\n",
    "        currNode = entrance\n",
    "        visited = [[False for _ in range(n)] for _ in range(m)]\n",
    "        steps = 0\n",
    "        print(visited)\n",
    "        while queue:\n",
    "            # visited.add(currNode)\n",
    "            currNode, steps = queue.pop(0)\n",
    "            print(currNode)\n",
    "            # visited.add(currNode)\n",
    "            visited[currNode[0]][currNode[1]] = True\n",
    "            steps += 1\n",
    "            for neighbor in [[currNode[0]-1, currNode[1]],\n",
    "                            [currNode[0], currNode[1]+1],\n",
    "                            [currNode[0]+1, currNode[1]],\n",
    "                            [currNode[0], currNode[1]-1]]:\n",
    "                if neighbor[0]>=0 and neighbor[0] < m and\\\n",
    "                     neighbor[1] >=0 and neighbor[1] < n:\n",
    "                    if visited[neighbor[0]][neighbor[1]]==True:\n",
    "                        continue\n",
    "                    elif maze[neighbor[0]][neighbor[1]] == '+':\n",
    "                        continue\n",
    "                    elif maze[neighbor[0]][neighbor[1]] == '.':\n",
    "                        queue.append([neighbor, steps])\n",
    "                        if neighbor[0] == 0 or neighbor[0] == m-1 \\\n",
    "                            or neighbor[1] == 0 or neighbor[1] == n-1:\n",
    "                            return steps\n",
    "        return -1"
   ]
  },
  {
   "cell_type": "code",
   "execution_count": 1,
   "id": "8f7f03d5-c1ab-48c4-b519-2eb5503e07ec",
   "metadata": {},
   "outputs": [],
   "source": [
    "# 707 \n",
    "class Node:\n",
    "    def __init__(self, val, next=None, prev=None):\n",
    "        self.val = val\n",
    "        self.next = next\n",
    "        self.prev = prev\n",
    "\n",
    "\n",
    "class MyLinkedList:\n",
    "\n",
    "    def __init__(self):\n",
    "        self.head = Node(val=0, next=None, prev=None)\n",
    "        self.length = 0\n",
    "\n",
    "    def get(self, index: int) -> int:\n",
    "        p = self.head\n",
    "        if index >= self.length:\n",
    "            return None\n",
    "        for i in range(index+1):\n",
    "            p = p.next\n",
    "        return p\n",
    "        \n",
    "    def addAtHead(self, val: int) -> None:\n",
    "        p = self.head\n",
    "        add_node = Node(val=val, next=p.next, prev=p)\n",
    "        if p.next:\n",
    "            p.next.prev = add_node\n",
    "            p.next = add_node\n",
    "        else:\n",
    "            p.next = add_node\n",
    "        self.length += 1\n",
    "\n",
    "    def addAtTail(self, val: int) -> None:\n",
    "        n = self.length\n",
    "        p = self.head\n",
    "        for i in range(n):\n",
    "            p = p.next\n",
    "        add_node = Node(val=val, next=None, prev=p)\n",
    "        p.next = add_node\n",
    "        self.length += 1\n",
    "\n",
    "    def addAtIndex(self, index: int, val: int) -> None:\n",
    "        p = self.head\n",
    "        if index >= self.length:\n",
    "            return None\n",
    "        for i in range(index):\n",
    "            p = p.next  # 此时p指向index前一个节点\n",
    "        add_node = Node(val=val, next=p.next, prev=p)\n",
    "        p.next.prev = add_node\n",
    "        p.next = add_node\n",
    "        self.length += 1\n",
    "\n",
    "    def deleteAtIndex(self, index: int) -> None:\n",
    "        p = self.head\n",
    "        if index >= self.length:\n",
    "            return None\n",
    "        for i in range(index+1):\n",
    "            p = p.next\n",
    "        if p.next:\n",
    "            p.prev.next = p.next\n",
    "            p.next.prev = p.prev\n",
    "        else:\n",
    "            p.prev.next = None\n",
    "        self.length -= 1\n",
    "\n",
    "\n",
    "\n",
    "# Your MyLinkedList object will be instantiated and called as such:\n",
    "# obj = MyLinkedList()\n",
    "# param_1 = obj.get(index)\n",
    "# obj.addAtHead(val)\n",
    "# obj.addAtTail(val)\n",
    "# obj.addAtIndex(index,val)\n",
    "# obj.deleteAtIndex(index)"
   ]
  },
  {
   "cell_type": "code",
   "execution_count": 2,
   "id": "2bd97edc-e84b-46d5-b9fd-e8e00a8ee633",
   "metadata": {
    "tags": []
   },
   "outputs": [
    {
     "data": {
      "text/plain": [
       "'\\n报错：\\nTypeError: <__main__.ListNode object at 0x7f3163814190> is not valid value for the expected return type integer\\n    raise TypeError(str(result) + \" is not valid value for the expected return type integer\")\\nLine 88 in __helper_select_method__ (Solution.py)\\n    ret.append(__DriverSolution__().__helper_select_method__(method, params[index], obj))\\nLine 150 in _driver (Solution.py)\\n    _driver()\\nLine 159 in <module> (Solution.py)\\nDuring handling of the above exception, another exception occurred:\\nTypeError: Type is not JSON serializable: ListNode\\nLine 203 in _serialize (./python3/__serializer__.py)\\n    return __Serializer__()._serialize(result, \"integer\");\\nLine 86 in __helper_select_method__ (Solution.py)\\n'"
      ]
     },
     "execution_count": 2,
     "metadata": {},
     "output_type": "execute_result"
    }
   ],
   "source": [
    "'''\n",
    "报错：\n",
    "TypeError: <__main__.ListNode object at 0x7f3163814190> is not valid value for the expected return type integer\n",
    "    raise TypeError(str(result) + \" is not valid value for the expected return type integer\")\n",
    "Line 88 in __helper_select_method__ (Solution.py)\n",
    "    ret.append(__DriverSolution__().__helper_select_method__(method, params[index], obj))\n",
    "Line 150 in _driver (Solution.py)\n",
    "    _driver()\n",
    "Line 159 in <module> (Solution.py)\n",
    "During handling of the above exception, another exception occurred:\n",
    "TypeError: Type is not JSON serializable: ListNode\n",
    "Line 203 in _serialize (./python3/__serializer__.py)\n",
    "    return __Serializer__()._serialize(result, \"integer\");\n",
    "Line 86 in __helper_select_method__ (Solution.py)\n",
    "'''"
   ]
  },
  {
   "cell_type": "code",
   "execution_count": 3,
   "id": "259edff3-7881-448b-a4a9-f15c9287de00",
   "metadata": {},
   "outputs": [
    {
     "data": {
      "text/plain": [
       "[[], [7], [2], [1], [3, 0], [2], [6], [4], [4], [4], [5, 0], [6]]"
      ]
     },
     "execution_count": 3,
     "metadata": {},
     "output_type": "execute_result"
    }
   ],
   "source": [
    "# 修改后，报错的样例：\n",
    "[\"MyLinkedList\",\"addAtHead\",\"addAtHead\",\"addAtHead\",\"addAtIndex\",\"deleteAtIndex\",\"addAtHead\",\"addAtTail\",\"get\",\"addAtHead\",\"addAtIndex\",\"addAtHead\"]\n",
    "[[],            [7],        [2],         [1],        [3,0],       [2],            [6],        [4],        [4],  [4],        [5,0],       [6]]"
   ]
  },
  {
   "cell_type": "code",
   "execution_count": 5,
   "id": "81d7006e-f9b9-466a-86cd-408de1ee2069",
   "metadata": {
    "tags": []
   },
   "outputs": [
    {
     "name": "stdout",
     "output_type": "stream",
     "text": [
      "i= 1 j= 0\n",
      "i= 2 j= 0\n",
      "i= 2 j= 1\n",
      "i= 3 j= 0\n",
      "i= 3 j= 1\n",
      "i= 3 j= 2\n",
      "i= 4 j= 0\n",
      "i= 4 j= 1\n",
      "i= 4 j= 2\n",
      "i= 4 j= 3\n"
     ]
    }
   ],
   "source": [
    "arr = [1, 2, 3, 45, 6]\n",
    "for i in range(len(arr)):\n",
    "    for j in range(i):\n",
    "        print(\"i=\", i, \"j=\", j)\n"
   ]
  },
  {
   "cell_type": "code",
   "execution_count": 6,
   "id": "fb2d2ae5-5ccf-4e8d-963e-7fec46353990",
   "metadata": {
    "tags": []
   },
   "outputs": [
    {
     "name": "stdout",
     "output_type": "stream",
     "text": [
      "0\n"
     ]
    }
   ],
   "source": [
    "for j in range(1):\n",
    "    print(j)\n"
   ]
  },
  {
   "cell_type": "code",
   "execution_count": 7,
   "id": "1c533d56-9632-4066-bfeb-35e6ae0e21cd",
   "metadata": {
    "tags": []
   },
   "outputs": [],
   "source": [
    "for j in range(0):\n",
    "    print(j)"
   ]
  },
  {
   "cell_type": "code",
   "execution_count": 2,
   "id": "3d81cac2-6d0b-4a10-a8c9-08df34684828",
   "metadata": {},
   "outputs": [],
   "source": [
    "a = [1, 2, 3, 4, 5, 6, 7, 8, 9]"
   ]
  },
  {
   "cell_type": "code",
   "execution_count": 3,
   "id": "3416a1c0-5cdb-46a5-a49c-1faa7351db48",
   "metadata": {
    "tags": []
   },
   "outputs": [
    {
     "data": {
      "text/plain": [
       "[1, 2, 3, 4, 5, 6, 7, 8, 9]"
      ]
     },
     "execution_count": 3,
     "metadata": {},
     "output_type": "execute_result"
    }
   ],
   "source": [
    "a"
   ]
  },
  {
   "cell_type": "code",
   "execution_count": 7,
   "id": "6ac60ad4-383d-4029-b947-2e191a9df00d",
   "metadata": {
    "tags": []
   },
   "outputs": [
    {
     "data": {
      "text/plain": [
       "[3, 4, 5, 6, 7, 8, 9]"
      ]
     },
     "execution_count": 7,
     "metadata": {},
     "output_type": "execute_result"
    }
   ],
   "source": [
    "a[2::]"
   ]
  },
  {
   "cell_type": "code",
   "execution_count": 8,
   "id": "480e4161-dc52-4d59-ae04-e9a6a5e19f29",
   "metadata": {},
   "outputs": [],
   "source": [
    "a = 6"
   ]
  },
  {
   "cell_type": "code",
   "execution_count": 9,
   "id": "4d6e8f33-0b4c-4186-935c-8038d07feb35",
   "metadata": {},
   "outputs": [],
   "source": [
    "b = 8"
   ]
  },
  {
   "cell_type": "code",
   "execution_count": 10,
   "id": "09adcd2a-98fa-446a-8d3b-6fd5065954ae",
   "metadata": {},
   "outputs": [],
   "source": [
    "y = a^b"
   ]
  },
  {
   "cell_type": "code",
   "execution_count": 11,
   "id": "17f843f7-1b3b-4e8b-a2e8-3e9c8d86d24c",
   "metadata": {},
   "outputs": [
    {
     "data": {
      "text/plain": [
       "14"
      ]
     },
     "execution_count": 11,
     "metadata": {},
     "output_type": "execute_result"
    }
   ],
   "source": [
    "y\n"
   ]
  },
  {
   "cell_type": "code",
   "execution_count": 23,
   "id": "4c7e3561-77d7-4dcf-a83b-f1affe662a59",
   "metadata": {},
   "outputs": [
    {
     "ename": "NameError",
     "evalue": "name 'inf' is not defined",
     "output_type": "error",
     "traceback": [
      "\u001b[0;31m---------------------------------------------------------------------------\u001b[0m",
      "\u001b[0;31mNameError\u001b[0m                                 Traceback (most recent call last)",
      "Cell \u001b[0;32mIn[23], line 1\u001b[0m\n\u001b[0;32m----> 1\u001b[0m i \u001b[38;5;241m=\u001b[39m \u001b[43minf\u001b[49m\n",
      "\u001b[0;31mNameError\u001b[0m: name 'inf' is not defined"
     ]
    }
   ],
   "source": [
    "i = inf"
   ]
  },
  {
   "cell_type": "code",
   "execution_count": 24,
   "id": "c05b8b45-14f1-41bd-af08-05aff463a098",
   "metadata": {},
   "outputs": [],
   "source": [
    "i = float(\"inf\")"
   ]
  },
  {
   "cell_type": "code",
   "execution_count": 25,
   "id": "2a25b0c0-a578-49d2-b1b8-43da4f8e7dc2",
   "metadata": {},
   "outputs": [
    {
     "data": {
      "text/plain": [
       "inf"
      ]
     },
     "execution_count": 25,
     "metadata": {},
     "output_type": "execute_result"
    }
   ],
   "source": [
    "i"
   ]
  },
  {
   "cell_type": "code",
   "execution_count": 26,
   "id": "cd6c0cee-befd-4be4-b0c9-ae1396f20093",
   "metadata": {},
   "outputs": [
    {
     "data": {
      "text/plain": [
       "inf"
      ]
     },
     "execution_count": 26,
     "metadata": {},
     "output_type": "execute_result"
    }
   ],
   "source": [
    "i+1\n"
   ]
  },
  {
   "cell_type": "code",
   "execution_count": 27,
   "id": "1a10f9ed-d9bc-4b9a-af96-a7d603e93e52",
   "metadata": {},
   "outputs": [
    {
     "data": {
      "text/plain": [
       "inf"
      ]
     },
     "execution_count": 27,
     "metadata": {},
     "output_type": "execute_result"
    }
   ],
   "source": [
    "i * i"
   ]
  },
  {
   "cell_type": "code",
   "execution_count": 7,
   "id": "a71b20ed-4eae-426f-a010-22e07aecb9c8",
   "metadata": {},
   "outputs": [],
   "source": [
    "for i in range(3, 3):\n",
    "    print(i)"
   ]
  },
  {
   "cell_type": "code",
   "execution_count": 8,
   "id": "6899440c-b9ee-4a41-805a-71d7f94b7f56",
   "metadata": {},
   "outputs": [],
   "source": [
    "a = [1, 2, 3]"
   ]
  },
  {
   "cell_type": "code",
   "execution_count": 9,
   "id": "10aaccc0-1e66-46cf-bd46-aacd3c8591cd",
   "metadata": {
    "tags": []
   },
   "outputs": [],
   "source": [
    "s = str(a)"
   ]
  },
  {
   "cell_type": "code",
   "execution_count": 10,
   "id": "263d6565-2a22-45bd-b4c7-a827b2bd18d6",
   "metadata": {
    "tags": []
   },
   "outputs": [
    {
     "data": {
      "text/plain": [
       "'[1, 2, 3]'"
      ]
     },
     "execution_count": 10,
     "metadata": {},
     "output_type": "execute_result"
    }
   ],
   "source": [
    "s"
   ]
  },
  {
   "cell_type": "code",
   "execution_count": 11,
   "id": "2937d55c-f70b-4a81-b0c6-a5204bbbdfb3",
   "metadata": {
    "tags": []
   },
   "outputs": [],
   "source": [
    "i = 6\n",
    "j = 3"
   ]
  },
  {
   "cell_type": "code",
   "execution_count": 14,
   "id": "f23e6335-4c59-4400-a8cf-b7bacd67c4f8",
   "metadata": {
    "tags": []
   },
   "outputs": [],
   "source": [
    "import math\n",
    "a = math.ceil(i / j)\n",
    "b = (i // j) + 1"
   ]
  },
  {
   "cell_type": "code",
   "execution_count": 15,
   "id": "c1007e99-f051-48a1-8f9a-55382e94a4a7",
   "metadata": {
    "tags": []
   },
   "outputs": [
    {
     "data": {
      "text/plain": [
       "(2, 3)"
      ]
     },
     "execution_count": 15,
     "metadata": {},
     "output_type": "execute_result"
    }
   ],
   "source": [
    "a, b"
   ]
  },
  {
   "cell_type": "code",
   "execution_count": 16,
   "id": "f74da6b4-b8a5-454e-a41d-697aee728d48",
   "metadata": {
    "tags": []
   },
   "outputs": [],
   "source": [
    "i = 3"
   ]
  },
  {
   "cell_type": "code",
   "execution_count": 17,
   "id": "e2723be6-33d1-4df5-9b1b-311c7b8c26aa",
   "metadata": {
    "tags": []
   },
   "outputs": [],
   "source": [
    "j = 3"
   ]
  },
  {
   "cell_type": "code",
   "execution_count": 18,
   "id": "273dd640-5847-456d-95cc-4d6ff9f60d5e",
   "metadata": {
    "tags": []
   },
   "outputs": [
    {
     "name": "stdout",
     "output_type": "stream",
     "text": [
      "4 3\n",
      "2 3\n",
      "3 4\n",
      "3 2\n"
     ]
    }
   ],
   "source": [
    "for i,j in [(i + 1, j), (i - 1, j), (i, j + 1), (i, j - 1)]:\n",
    "    print(i, j)"
   ]
  },
  {
   "cell_type": "code",
   "execution_count": 22,
   "id": "57d8f6cf-c957-4c3e-98d8-5917249820fd",
   "metadata": {
    "tags": []
   },
   "outputs": [],
   "source": [
    "def solve(board: [[str]]) -> None:\n",
    "    \"\"\"\n",
    "    Do not return anything, modify board in-place instead.\n",
    "    \"\"\"\n",
    "    def dfs(board, x, y):\n",
    "        if x >= m or x < 0 or y >= n or y <= 0:\n",
    "            return False\n",
    "        # if used[x][y]:  # 已经通过标记#来记录访问过的O，所以不必要使用used\n",
    "        #     return False\n",
    "        if board[x][y] != \"O\":\n",
    "            return\n",
    "            # board[x][y] = \"#\"\n",
    "        board[x][y] = \"#\"\n",
    "        # used[x][y] = True\n",
    "        for i, j in [(x, y + 1), (x + 1, y), (x, y - 1), (x - 1, y)]:\n",
    "            # used[i][j] = True\n",
    "            dfs(board, i, j)\n",
    "            # used[i][j] = False\n",
    "        # used[x][y] = False\n",
    "    m = len(board)\n",
    "    n = len(board[0]) if board else 0\n",
    "    # used = [[False for _ in range(n)] for _ in range(m)]\n",
    "    for i in range(m):\n",
    "        if board[i][0] == \"O\": dfs(board, i, 0)\n",
    "        if board[i][n - 1] == \"O\": dfs(board, i, n - 1)\n",
    "    for j in range(n):\n",
    "        if board[0][j] == \"O\": dfs(board, 0, j)\n",
    "        if board[m-1][j] == \"O\": dfs(board, m - 1, j)\n",
    "    for i in range(m):\n",
    "        for j in range(n):\n",
    "            if board[i][j] == \"O\":\n",
    "                board[i][j] = \"X\"\n",
    "    for i in range(m):\n",
    "        for j in range(n):\n",
    "            if board[i][j] == \"#\":\n",
    "                board[i][j] = \"O\""
   ]
  },
  {
   "cell_type": "code",
   "execution_count": 23,
   "id": "fa5523f2-384c-40ba-addc-17d2a3e59157",
   "metadata": {
    "tags": []
   },
   "outputs": [],
   "source": [
    "board = [[\"O\"]]"
   ]
  },
  {
   "cell_type": "code",
   "execution_count": 24,
   "id": "22748364-6eaa-4348-8724-14c338e369f4",
   "metadata": {
    "tags": []
   },
   "outputs": [],
   "source": [
    "solve(board)"
   ]
  },
  {
   "cell_type": "code",
   "execution_count": 25,
   "id": "942b1b00-9f3e-4cde-ad45-bce98ba88e5e",
   "metadata": {
    "tags": []
   },
   "outputs": [
    {
     "data": {
      "text/plain": [
       "[['X']]"
      ]
     },
     "execution_count": 25,
     "metadata": {},
     "output_type": "execute_result"
    }
   ],
   "source": [
    "board"
   ]
  },
  {
   "cell_type": "code",
   "execution_count": 1,
   "id": "fa5e331d-64c4-452c-9431-d0eecc68942c",
   "metadata": {},
   "outputs": [],
   "source": [
    "from collections import defaultdict"
   ]
  },
  {
   "cell_type": "code",
   "execution_count": 2,
   "id": "685b8a8b-5ffb-48b2-8096-5590718c42c0",
   "metadata": {
    "tags": []
   },
   "outputs": [],
   "source": [
    "dp = defaultdict(int)"
   ]
  },
  {
   "cell_type": "code",
   "execution_count": 3,
   "id": "7cb982dc-6633-4733-b4bc-abf9a1d80979",
   "metadata": {
    "tags": []
   },
   "outputs": [],
   "source": [
    "arr = [1, 5, 7, 8, 5, 3, 4, 2, 1]"
   ]
  },
  {
   "cell_type": "code",
   "execution_count": 5,
   "id": "c21ff934-5524-4ed8-948c-7227192eaa2e",
   "metadata": {
    "tags": []
   },
   "outputs": [],
   "source": [
    "d = -2"
   ]
  },
  {
   "cell_type": "code",
   "execution_count": 11,
   "id": "67388fa4-70cb-408e-a057-e849836a76c9",
   "metadata": {
    "tags": []
   },
   "outputs": [],
   "source": [
    "n = len(arr)\n",
    "difference = d\n",
    "dp[arr[0]] = 1\n",
    "for i in range(1, n):\n",
    "    if arr[i] - difference in dp:  # 这句话是多余的\n",
    "        dp[arr[i]] = dp[arr[i] - difference] + 1"
   ]
  },
  {
   "cell_type": "code",
   "execution_count": 12,
   "id": "ec90dacd-81fd-4b0f-b926-7981225d8b60",
   "metadata": {
    "tags": []
   },
   "outputs": [
    {
     "data": {
      "text/plain": [
       "defaultdict(int, {1: 1})"
      ]
     },
     "execution_count": 12,
     "metadata": {},
     "output_type": "execute_result"
    }
   ],
   "source": [
    "dp\n"
   ]
  },
  {
   "cell_type": "code",
   "execution_count": 16,
   "id": "acb80f81-2e00-4afd-b971-68d68579f81a",
   "metadata": {},
   "outputs": [
    {
     "name": "stdout",
     "output_type": "stream",
     "text": [
      "i =  0 j =  0\n"
     ]
    }
   ],
   "source": [
    "n = 1\n",
    "for i in range(n):\n",
    "    for j in range(i + 1):\n",
    "        print(\"i = \", i, \"j = \", j)\n"
   ]
  },
  {
   "cell_type": "code",
   "execution_count": null,
   "id": "f16b4fb1-d4a6-4048-a9b8-3af46c45891b",
   "metadata": {},
   "outputs": [],
   "source": [
    "T = [[-10]]\n"
   ]
  },
  {
   "cell_type": "code",
   "execution_count": 17,
   "id": "605d1359-b535-48b0-bbdc-b8702ff3ff88",
   "metadata": {
    "tags": []
   },
   "outputs": [],
   "source": [
    "m = [[1, 2, 3], [4, 5, 0]]"
   ]
  },
  {
   "cell_type": "code",
   "execution_count": 18,
   "id": "ab161f08-4fcb-4d13-96ad-641457b6a128",
   "metadata": {
    "tags": []
   },
   "outputs": [],
   "source": [
    "visited = set()"
   ]
  },
  {
   "cell_type": "code",
   "execution_count": 19,
   "id": "098bc654-cee8-4dcc-a4d4-4221e8258041",
   "metadata": {
    "tags": []
   },
   "outputs": [],
   "source": [
    "visited.add(str(m))"
   ]
  },
  {
   "cell_type": "code",
   "execution_count": 20,
   "id": "a69dfe6a-3b43-4fb0-b6c0-15d3f4214090",
   "metadata": {
    "tags": []
   },
   "outputs": [
    {
     "data": {
      "text/plain": [
       "{'[[1, 2, 3], [4, 5, 0]]'}"
      ]
     },
     "execution_count": 20,
     "metadata": {},
     "output_type": "execute_result"
    }
   ],
   "source": [
    "visited"
   ]
  },
  {
   "cell_type": "code",
   "execution_count": 21,
   "id": "8cbbaf66-3c42-4211-9326-3400d333033a",
   "metadata": {
    "tags": []
   },
   "outputs": [
    {
     "name": "stdout",
     "output_type": "stream",
     "text": [
      "True\n"
     ]
    }
   ],
   "source": [
    "print(str(m) in visited)"
   ]
  },
  {
   "cell_type": "code",
   "execution_count": 25,
   "id": "2a8ec8a3-77a5-4523-ba0f-49c925185741",
   "metadata": {},
   "outputs": [],
   "source": [
    "import heapq\n",
    "q = []"
   ]
  },
  {
   "cell_type": "code",
   "execution_count": 30,
   "id": "4c7d55a2-096b-4bac-a976-4c3d78a3adb8",
   "metadata": {
    "tags": []
   },
   "outputs": [],
   "source": [
    "heapq.heappush(q, -2)"
   ]
  },
  {
   "cell_type": "code",
   "execution_count": 31,
   "id": "ca7db15a-3e1a-408a-b79d-f88b8895cdbb",
   "metadata": {
    "tags": []
   },
   "outputs": [
    {
     "data": {
      "text/plain": [
       "[-2, 2, 1]"
      ]
     },
     "execution_count": 31,
     "metadata": {},
     "output_type": "execute_result"
    }
   ],
   "source": [
    "q"
   ]
  },
  {
   "cell_type": "code",
   "execution_count": 36,
   "id": "881f3b68-ea89-4631-ad5c-65975ce86149",
   "metadata": {
    "tags": []
   },
   "outputs": [],
   "source": [
    "a = heapq.heappop(q)"
   ]
  },
  {
   "cell_type": "code",
   "execution_count": 37,
   "id": "1e7531e0-b9c5-45d9-8262-59b9e6fc08ea",
   "metadata": {
    "tags": []
   },
   "outputs": [
    {
     "data": {
      "text/plain": [
       "1"
      ]
     },
     "execution_count": 37,
     "metadata": {},
     "output_type": "execute_result"
    }
   ],
   "source": [
    "a"
   ]
  },
  {
   "cell_type": "code",
   "execution_count": 39,
   "id": "e8692f87-509b-425d-a272-53f3c735ef4a",
   "metadata": {},
   "outputs": [],
   "source": [
    "import builtins"
   ]
  },
  {
   "cell_type": "code",
   "execution_count": 40,
   "id": "fa437786-f2d2-4e46-a9f2-71de65d398f4",
   "metadata": {
    "tags": []
   },
   "outputs": [
    {
     "data": {
      "text/plain": [
       "{'__name__': 'builtins',\n",
       " '__doc__': \"Built-in functions, exceptions, and other objects.\\n\\nNoteworthy: None is the `nil' object; Ellipsis represents `...' in slices.\",\n",
       " '__package__': '',\n",
       " '__loader__': _frozen_importlib.BuiltinImporter,\n",
       " '__spec__': ModuleSpec(name='builtins', loader=<class '_frozen_importlib.BuiltinImporter'>),\n",
       " '__build_class__': <function __build_class__>,\n",
       " '__import__': <function __import__>,\n",
       " 'abs': <function abs(x, /)>,\n",
       " 'all': <function all(iterable, /)>,\n",
       " 'any': <function any(iterable, /)>,\n",
       " 'ascii': <function ascii(obj, /)>,\n",
       " 'bin': <function bin(number, /)>,\n",
       " 'breakpoint': <function breakpoint>,\n",
       " 'callable': <function callable(obj, /)>,\n",
       " 'chr': <function chr(i, /)>,\n",
       " 'compile': <function compile(source, filename, mode, flags=0, dont_inherit=False, optimize=-1, *, _feature_version=-1)>,\n",
       " 'delattr': <function delattr(obj, name, /)>,\n",
       " 'dir': <function dir>,\n",
       " 'divmod': <function divmod(x, y, /)>,\n",
       " 'eval': <function eval(source, globals=None, locals=None, /)>,\n",
       " 'exec': <function exec(source, globals=None, locals=None, /)>,\n",
       " 'format': <function format(value, format_spec='', /)>,\n",
       " 'getattr': <function getattr>,\n",
       " 'globals': <function globals()>,\n",
       " 'hasattr': <function hasattr(obj, name, /)>,\n",
       " 'hash': <function hash(obj, /)>,\n",
       " 'hex': <function hex(number, /)>,\n",
       " 'id': <function id(obj, /)>,\n",
       " 'input': <bound method Kernel.raw_input of <ipykernel.ipkernel.IPythonKernel object at 0x7ff0e29fabb0>>,\n",
       " 'isinstance': <function isinstance(obj, class_or_tuple, /)>,\n",
       " 'issubclass': <function issubclass(cls, class_or_tuple, /)>,\n",
       " 'iter': <function iter>,\n",
       " 'len': <function len(obj, /)>,\n",
       " 'locals': <function locals()>,\n",
       " 'max': <function max>,\n",
       " 'min': <function min>,\n",
       " 'next': <function next>,\n",
       " 'oct': <function oct(number, /)>,\n",
       " 'ord': <function ord(c, /)>,\n",
       " 'pow': <function pow(base, exp, mod=None)>,\n",
       " 'print': <function print>,\n",
       " 'repr': <function repr(obj, /)>,\n",
       " 'round': <function round(number, ndigits=None)>,\n",
       " 'setattr': <function setattr(obj, name, value, /)>,\n",
       " 'sorted': <function sorted(iterable, /, *, key=None, reverse=False)>,\n",
       " 'sum': <function sum(iterable, /, start=0)>,\n",
       " 'vars': <function vars>,\n",
       " 'None': None,\n",
       " 'Ellipsis': Ellipsis,\n",
       " 'NotImplemented': NotImplemented,\n",
       " 'False': False,\n",
       " 'True': True,\n",
       " 'bool': bool,\n",
       " 'memoryview': memoryview,\n",
       " 'bytearray': bytearray,\n",
       " 'bytes': bytes,\n",
       " 'classmethod': classmethod,\n",
       " 'complex': complex,\n",
       " 'dict': dict,\n",
       " 'enumerate': enumerate,\n",
       " 'filter': filter,\n",
       " 'float': float,\n",
       " 'frozenset': frozenset,\n",
       " 'property': property,\n",
       " 'int': int,\n",
       " 'list': list,\n",
       " 'map': map,\n",
       " 'object': object,\n",
       " 'range': range,\n",
       " 'reversed': reversed,\n",
       " 'set': set,\n",
       " 'slice': slice,\n",
       " 'staticmethod': staticmethod,\n",
       " 'str': str,\n",
       " 'super': super,\n",
       " 'tuple': tuple,\n",
       " 'type': type,\n",
       " 'zip': zip,\n",
       " '__debug__': True,\n",
       " 'BaseException': BaseException,\n",
       " 'Exception': Exception,\n",
       " 'TypeError': TypeError,\n",
       " 'StopAsyncIteration': StopAsyncIteration,\n",
       " 'StopIteration': StopIteration,\n",
       " 'GeneratorExit': GeneratorExit,\n",
       " 'SystemExit': SystemExit,\n",
       " 'KeyboardInterrupt': KeyboardInterrupt,\n",
       " 'ImportError': ImportError,\n",
       " 'ModuleNotFoundError': ModuleNotFoundError,\n",
       " 'OSError': OSError,\n",
       " 'EnvironmentError': OSError,\n",
       " 'IOError': OSError,\n",
       " 'EOFError': EOFError,\n",
       " 'RuntimeError': RuntimeError,\n",
       " 'RecursionError': RecursionError,\n",
       " 'NotImplementedError': NotImplementedError,\n",
       " 'NameError': NameError,\n",
       " 'UnboundLocalError': UnboundLocalError,\n",
       " 'AttributeError': AttributeError,\n",
       " 'SyntaxError': SyntaxError,\n",
       " 'IndentationError': IndentationError,\n",
       " 'TabError': TabError,\n",
       " 'LookupError': LookupError,\n",
       " 'IndexError': IndexError,\n",
       " 'KeyError': KeyError,\n",
       " 'ValueError': ValueError,\n",
       " 'UnicodeError': UnicodeError,\n",
       " 'UnicodeEncodeError': UnicodeEncodeError,\n",
       " 'UnicodeDecodeError': UnicodeDecodeError,\n",
       " 'UnicodeTranslateError': UnicodeTranslateError,\n",
       " 'AssertionError': AssertionError,\n",
       " 'ArithmeticError': ArithmeticError,\n",
       " 'FloatingPointError': FloatingPointError,\n",
       " 'OverflowError': OverflowError,\n",
       " 'ZeroDivisionError': ZeroDivisionError,\n",
       " 'SystemError': SystemError,\n",
       " 'ReferenceError': ReferenceError,\n",
       " 'MemoryError': MemoryError,\n",
       " 'BufferError': BufferError,\n",
       " 'Warning': Warning,\n",
       " 'UserWarning': UserWarning,\n",
       " 'DeprecationWarning': DeprecationWarning,\n",
       " 'PendingDeprecationWarning': PendingDeprecationWarning,\n",
       " 'SyntaxWarning': SyntaxWarning,\n",
       " 'RuntimeWarning': RuntimeWarning,\n",
       " 'FutureWarning': FutureWarning,\n",
       " 'ImportWarning': ImportWarning,\n",
       " 'UnicodeWarning': UnicodeWarning,\n",
       " 'BytesWarning': BytesWarning,\n",
       " 'ResourceWarning': ResourceWarning,\n",
       " 'ConnectionError': ConnectionError,\n",
       " 'BlockingIOError': BlockingIOError,\n",
       " 'BrokenPipeError': BrokenPipeError,\n",
       " 'ChildProcessError': ChildProcessError,\n",
       " 'ConnectionAbortedError': ConnectionAbortedError,\n",
       " 'ConnectionRefusedError': ConnectionRefusedError,\n",
       " 'ConnectionResetError': ConnectionResetError,\n",
       " 'FileExistsError': FileExistsError,\n",
       " 'FileNotFoundError': FileNotFoundError,\n",
       " 'IsADirectoryError': IsADirectoryError,\n",
       " 'NotADirectoryError': NotADirectoryError,\n",
       " 'InterruptedError': InterruptedError,\n",
       " 'PermissionError': PermissionError,\n",
       " 'ProcessLookupError': ProcessLookupError,\n",
       " 'TimeoutError': TimeoutError,\n",
       " 'open': <function io.open(file, mode='r', buffering=-1, encoding=None, errors=None, newline=None, closefd=True, opener=None)>,\n",
       " 'copyright': Copyright (c) 2001-2021 Python Software Foundation.\n",
       " All Rights Reserved.\n",
       " \n",
       " Copyright (c) 2000 BeOpen.com.\n",
       " All Rights Reserved.\n",
       " \n",
       " Copyright (c) 1995-2001 Corporation for National Research Initiatives.\n",
       " All Rights Reserved.\n",
       " \n",
       " Copyright (c) 1991-1995 Stichting Mathematisch Centrum, Amsterdam.\n",
       " All Rights Reserved.,\n",
       " 'credits':     Thanks to CWI, CNRI, BeOpen.com, Zope Corporation and a cast of thousands\n",
       "     for supporting Python development.  See www.python.org for more information.,\n",
       " 'license': Type license() to see the full license text,\n",
       " 'help': Type help() for interactive help, or help(object) for help about object.,\n",
       " 'execfile': <function _pydev_bundle._pydev_execfile.execfile(file, glob=None, loc=None)>,\n",
       " 'runfile': <function _pydev_bundle.pydev_umd.runfile(filename, args=None, wdir=None, namespace=None)>,\n",
       " '__IPYTHON__': True,\n",
       " 'display': <function IPython.core.display_functions.display(*objs, include=None, exclude=None, metadata=None, transient=None, display_id=None, raw=False, clear=False, **kwargs)>,\n",
       " 'get_ipython': <bound method InteractiveShell.get_ipython of <ipykernel.zmqshell.ZMQInteractiveShell object at 0x7ff0e2a07160>>}"
      ]
     },
     "execution_count": 40,
     "metadata": {},
     "output_type": "execute_result"
    }
   ],
   "source": [
    "vars(builtins)"
   ]
  },
  {
   "cell_type": "code",
   "execution_count": 41,
   "id": "f6f3242f-17b9-4210-a76c-e70eb194dbdd",
   "metadata": {},
   "outputs": [],
   "source": [
    "import heapq\n"
   ]
  },
  {
   "cell_type": "code",
   "execution_count": 42,
   "id": "28108fe9-a586-4c68-8a04-801f2c88add5",
   "metadata": {
    "tags": []
   },
   "outputs": [],
   "source": [
    "curr = []\n",
    "heapq.heappush(curr, 12)\n",
    "\n",
    "heapq.heappush(curr, 12)\n",
    "\n",
    "heapq.heappush(curr, 12)"
   ]
  },
  {
   "cell_type": "code",
   "execution_count": 43,
   "id": "42d24aa9-b3ec-4bdf-bcb5-2fbc805b2f34",
   "metadata": {
    "tags": []
   },
   "outputs": [
    {
     "name": "stdout",
     "output_type": "stream",
     "text": [
      "[12, 12, 12]\n"
     ]
    }
   ],
   "source": [
    "print(curr)"
   ]
  },
  {
   "cell_type": "code",
   "execution_count": 44,
   "id": "0a34a827-2d73-40f1-bbd0-50c1b1c5a3d8",
   "metadata": {
    "tags": []
   },
   "outputs": [
    {
     "data": {
      "text/plain": [
       "12"
      ]
     },
     "execution_count": 44,
     "metadata": {},
     "output_type": "execute_result"
    }
   ],
   "source": [
    "heapq.heappop(curr)"
   ]
  },
  {
   "cell_type": "code",
   "execution_count": 45,
   "id": "26528fd1-ca9b-4634-8203-35218f39ea9d",
   "metadata": {
    "tags": []
   },
   "outputs": [
    {
     "data": {
      "text/plain": [
       "[12, 12]"
      ]
     },
     "execution_count": 45,
     "metadata": {},
     "output_type": "execute_result"
    }
   ],
   "source": [
    "curr"
   ]
  },
  {
   "cell_type": "code",
   "execution_count": 50,
   "id": "48f58912-1075-4f7e-bd55-340bc85e145d",
   "metadata": {
    "tags": []
   },
   "outputs": [],
   "source": [
    "from sortedcontainers import SortedSet"
   ]
  },
  {
   "cell_type": "code",
   "execution_count": 51,
   "id": "b45ca869-d833-4830-96b1-e54cf555a35a",
   "metadata": {
    "tags": []
   },
   "outputs": [],
   "source": [
    "curr = SortedSet([1, 1, 1, 2])"
   ]
  },
  {
   "cell_type": "code",
   "execution_count": 52,
   "id": "87ec4ef7-01d3-4962-823a-bcf005a29f39",
   "metadata": {
    "tags": []
   },
   "outputs": [
    {
     "data": {
      "text/plain": [
       "SortedSet([1, 2])"
      ]
     },
     "execution_count": 52,
     "metadata": {},
     "output_type": "execute_result"
    }
   ],
   "source": [
    "curr"
   ]
  },
  {
   "cell_type": "code",
   "execution_count": 48,
   "id": "20bf4613-5453-4aaa-bdab-86c8b5aee629",
   "metadata": {
    "tags": []
   },
   "outputs": [],
   "source": [
    "curr.remove(1)"
   ]
  },
  {
   "cell_type": "code",
   "execution_count": 49,
   "id": "f1161115-f2bf-4ea7-93ee-1f62366aa6a9",
   "metadata": {
    "tags": []
   },
   "outputs": [
    {
     "data": {
      "text/plain": [
       "SortedSet([2])"
      ]
     },
     "execution_count": 49,
     "metadata": {},
     "output_type": "execute_result"
    }
   ],
   "source": [
    "curr"
   ]
  },
  {
   "cell_type": "code",
   "execution_count": 70,
   "id": "5ff76a09-a27f-49f9-a2f4-25e16907b6ea",
   "metadata": {
    "tags": []
   },
   "outputs": [],
   "source": [
    "s = [4, 4, 6, 9]"
   ]
  },
  {
   "cell_type": "code",
   "execution_count": 77,
   "id": "9ca42daf-1800-43e1-a6c7-4806a6855734",
   "metadata": {
    "tags": []
   },
   "outputs": [],
   "source": [
    "import itertools"
   ]
  },
  {
   "cell_type": "raw",
   "id": "1ee23049-694c-4921-9bc2-9f5603a0c14c",
   "metadata": {},
   "source": [
    "a = itertools.pairwise(s) # at least py3.10"
   ]
  },
  {
   "cell_type": "code",
   "execution_count": 78,
   "id": "1dd7c84c-73fb-4287-936c-561db274054d",
   "metadata": {
    "tags": []
   },
   "outputs": [
    {
     "ename": "AttributeError",
     "evalue": "module 'itertools' has no attribute 'pairwise'",
     "output_type": "error",
     "traceback": [
      "\u001b[0;31m---------------------------------------------------------------------------\u001b[0m",
      "\u001b[0;31mAttributeError\u001b[0m                            Traceback (most recent call last)",
      "Cell \u001b[0;32mIn[78], line 1\u001b[0m\n\u001b[0;32m----> 1\u001b[0m \u001b[38;5;28;01mfor\u001b[39;00m x, y \u001b[38;5;129;01min\u001b[39;00m \u001b[43mitertools\u001b[49m\u001b[38;5;241;43m.\u001b[39;49m\u001b[43mpairwise\u001b[49m(s):\n\u001b[1;32m      2\u001b[0m     \u001b[38;5;28mprint\u001b[39m(x, y)\n",
      "\u001b[0;31mAttributeError\u001b[0m: module 'itertools' has no attribute 'pairwise'"
     ]
    }
   ],
   "source": [
    "for x, y in itertools.pairwise(s):\n",
    "    print(x, y)"
   ]
  },
  {
   "cell_type": "code",
   "execution_count": 79,
   "id": "bdaa15e5-1330-4e94-9b64-05cb03b0c84b",
   "metadata": {
    "tags": []
   },
   "outputs": [
    {
     "ename": "AttributeError",
     "evalue": "module 'itertools' has no attribute '__version__'",
     "output_type": "error",
     "traceback": [
      "\u001b[0;31m---------------------------------------------------------------------------\u001b[0m",
      "\u001b[0;31mAttributeError\u001b[0m                            Traceback (most recent call last)",
      "Cell \u001b[0;32mIn[79], line 1\u001b[0m\n\u001b[0;32m----> 1\u001b[0m \u001b[38;5;28mprint\u001b[39m(\u001b[43mitertools\u001b[49m\u001b[38;5;241;43m.\u001b[39;49m\u001b[43m__version__\u001b[49m)\n",
      "\u001b[0;31mAttributeError\u001b[0m: module 'itertools' has no attribute '__version__'"
     ]
    }
   ],
   "source": [
    "print(itertools.__version__)"
   ]
  },
  {
   "cell_type": "code",
   "execution_count": 81,
   "id": "2ecac3c6-4e27-4346-a49c-a1d9e9f50033",
   "metadata": {
    "tags": []
   },
   "outputs": [
    {
     "name": "stdout",
     "output_type": "stream",
     "text": [
      "3.8.10 (default, Jun 22 2022, 20:18:18) \n",
      "[GCC 9.4.0]\n"
     ]
    }
   ],
   "source": [
    "import sys\n",
    "print(sys.version)"
   ]
  },
  {
   "cell_type": "code",
   "execution_count": null,
   "id": "e1e9de85-0214-429d-b154-603d6bb4e187",
   "metadata": {},
   "outputs": [],
   "source": [
    "print()"
   ]
  },
  {
   "cell_type": "code",
   "execution_count": 82,
   "id": "6d9bfed5-933d-46f6-a43c-6bb834c9ae1e",
   "metadata": {
    "tags": []
   },
   "outputs": [],
   "source": [
    "def print2(arr):\n",
    "    for i in range(len(arr)):\n",
    "        print(arr[i])\n",
    "\n",
    "def printArr(arr, i):\n",
    "    if i == len(arr):\n",
    "        return \n",
    "    print(arr[i])\n",
    "    printArr(arr, i + 1)"
   ]
  },
  {
   "cell_type": "code",
   "execution_count": 83,
   "id": "1a769716-eb48-43de-a201-caaaeb952b18",
   "metadata": {
    "tags": []
   },
   "outputs": [],
   "source": [
    "arr = [1, 2, 3, 4, 5]"
   ]
  },
  {
   "cell_type": "code",
   "execution_count": 84,
   "id": "5d3f9c28-b595-483a-bc20-9f9042d4fdd5",
   "metadata": {
    "tags": []
   },
   "outputs": [
    {
     "name": "stdout",
     "output_type": "stream",
     "text": [
      "1\n",
      "2\n",
      "3\n",
      "4\n",
      "5\n"
     ]
    }
   ],
   "source": [
    "print2(arr)"
   ]
  },
  {
   "cell_type": "code",
   "execution_count": 85,
   "id": "08548eb9-fa63-41e5-b673-639f9dd795a7",
   "metadata": {
    "tags": []
   },
   "outputs": [
    {
     "name": "stdout",
     "output_type": "stream",
     "text": [
      "1\n",
      "2\n",
      "3\n",
      "4\n",
      "5\n"
     ]
    }
   ],
   "source": [
    "printArr(arr, 0)"
   ]
  },
  {
   "cell_type": "code",
   "execution_count": 86,
   "id": "42c2160f-52e4-4caa-b9c4-f76525765d1c",
   "metadata": {},
   "outputs": [],
   "source": [
    "from collections import defaultdict"
   ]
  },
  {
   "cell_type": "code",
   "execution_count": 87,
   "id": "df3c4e89-b738-4fa1-b634-894dcf2dc474",
   "metadata": {
    "tags": []
   },
   "outputs": [],
   "source": [
    "need = defaultdict(int)\n"
   ]
  },
  {
   "cell_type": "code",
   "execution_count": 88,
   "id": "1fd1b07b-67c4-4e4b-8ee4-0a4a17a49d3f",
   "metadata": {
    "tags": []
   },
   "outputs": [],
   "source": [
    "need['a'] = 1\n",
    "need['b'] = 3\n",
    "need['c'] = 0"
   ]
  },
  {
   "cell_type": "code",
   "execution_count": 94,
   "id": "2553686a-f275-4000-ad4b-d0e864ebd962",
   "metadata": {
    "tags": []
   },
   "outputs": [
    {
     "name": "stdout",
     "output_type": "stream",
     "text": [
      "d defaultdict(<class 'int'>, {'a': 1, 'b': 3, 'c': 0})\n"
     ]
    }
   ],
   "source": [
    "c = 'd'\n",
    "print(c, need)\n",
    "if c in need:\n",
    "    print(\"char in need\")\n",
    "if need[c]:\n",
    "    print(\"need[char] is True\")"
   ]
  },
  {
   "cell_type": "code",
   "execution_count": 95,
   "id": "7507d9f8-cc84-4420-8c69-4f86dc22f358",
   "metadata": {
    "tags": []
   },
   "outputs": [],
   "source": [
    "need['a'] -= 1"
   ]
  },
  {
   "cell_type": "code",
   "execution_count": 96,
   "id": "36ef7c8a-20ef-459c-a33f-1b99fd2543c9",
   "metadata": {
    "tags": []
   },
   "outputs": [
    {
     "name": "stdout",
     "output_type": "stream",
     "text": [
      "a defaultdict(<class 'int'>, {'a': 0, 'b': 3, 'c': 0, 'd': 0})\n",
      "char in need\n"
     ]
    }
   ],
   "source": [
    "c = 'a'\n",
    "print(c, need)\n",
    "if c in need:\n",
    "    print(\"char in need\")\n",
    "if need[c]:\n",
    "    print(\"need[char] is True\")"
   ]
  },
  {
   "cell_type": "code",
   "execution_count": 97,
   "id": "03e8fb81-b098-48be-9c40-b1642bcb961b",
   "metadata": {},
   "outputs": [],
   "source": [
    "nums = [(11, 3), (13, 0), (32, 2), (25, 1)]"
   ]
  },
  {
   "cell_type": "code",
   "execution_count": 98,
   "id": "b7df1c46-df24-4d67-91a9-5de514ca84a2",
   "metadata": {
    "tags": []
   },
   "outputs": [],
   "source": [
    "import heapq"
   ]
  },
  {
   "cell_type": "code",
   "execution_count": 99,
   "id": "78acd0ea-92aa-4a12-ad29-619f1e2d9da6",
   "metadata": {
    "tags": []
   },
   "outputs": [],
   "source": [
    "heapq.heapify(nums)"
   ]
  },
  {
   "cell_type": "code",
   "execution_count": 100,
   "id": "1edefb97-2205-4fb1-a4dd-eda1eb968046",
   "metadata": {
    "tags": []
   },
   "outputs": [
    {
     "data": {
      "text/plain": [
       "[(11, 3), (13, 0), (32, 2), (25, 1)]"
      ]
     },
     "execution_count": 100,
     "metadata": {},
     "output_type": "execute_result"
    }
   ],
   "source": [
    "nums"
   ]
  },
  {
   "cell_type": "code",
   "execution_count": 109,
   "id": "802be654-0fcd-4b7f-be91-be267953c0a9",
   "metadata": {
    "tags": []
   },
   "outputs": [
    {
     "ename": "IndexError",
     "evalue": "index out of range",
     "output_type": "error",
     "traceback": [
      "\u001b[0;31m---------------------------------------------------------------------------\u001b[0m",
      "\u001b[0;31mIndexError\u001b[0m                                Traceback (most recent call last)",
      "Cell \u001b[0;32mIn[109], line 1\u001b[0m\n\u001b[0;32m----> 1\u001b[0m a \u001b[38;5;241m=\u001b[39m \u001b[43mheapq\u001b[49m\u001b[38;5;241;43m.\u001b[39;49m\u001b[43mheappop\u001b[49m\u001b[43m(\u001b[49m\u001b[43mnums\u001b[49m\u001b[43m)\u001b[49m\n",
      "\u001b[0;31mIndexError\u001b[0m: index out of range"
     ]
    }
   ],
   "source": [
    "a = heapq.heappop(nums)"
   ]
  },
  {
   "cell_type": "code",
   "execution_count": 108,
   "id": "d247a1e9-4704-45c9-9e03-43dd943be216",
   "metadata": {
    "tags": []
   },
   "outputs": [
    {
     "data": {
      "text/plain": [
       "(32, 2)"
      ]
     },
     "execution_count": 108,
     "metadata": {},
     "output_type": "execute_result"
    }
   ],
   "source": [
    "a"
   ]
  },
  {
   "cell_type": "code",
   "execution_count": 110,
   "id": "75b574c9-8fe9-4173-baf1-b0e6a2293350",
   "metadata": {},
   "outputs": [],
   "source": [
    "s = \"abcdefg\""
   ]
  },
  {
   "cell_type": "code",
   "execution_count": 111,
   "id": "584f2942-9687-4ee0-b32d-76c17d6b9195",
   "metadata": {
    "tags": []
   },
   "outputs": [],
   "source": [
    "stack = []"
   ]
  },
  {
   "cell_type": "code",
   "execution_count": 112,
   "id": "e2f3891b-90a8-46f2-ba24-458650a6bed2",
   "metadata": {
    "tags": []
   },
   "outputs": [],
   "source": [
    "for c in s:\n",
    "    stack.append(c)"
   ]
  },
  {
   "cell_type": "code",
   "execution_count": 113,
   "id": "f1f4140e-916c-4145-9b7d-627af8882c32",
   "metadata": {
    "tags": []
   },
   "outputs": [
    {
     "data": {
      "text/plain": [
       "['a', 'b', 'c', 'd', 'e', 'f', 'g']"
      ]
     },
     "execution_count": 113,
     "metadata": {},
     "output_type": "execute_result"
    }
   ],
   "source": [
    "stack"
   ]
  },
  {
   "cell_type": "code",
   "execution_count": 114,
   "id": "cf526ec0-0035-4c87-a3be-50dc51d1888d",
   "metadata": {
    "tags": []
   },
   "outputs": [
    {
     "data": {
      "text/plain": [
       "'gfedcba'"
      ]
     },
     "execution_count": 114,
     "metadata": {},
     "output_type": "execute_result"
    }
   ],
   "source": [
    "''.join(reversed(stack))"
   ]
  },
  {
   "cell_type": "code",
   "execution_count": 115,
   "id": "d6d574ef-8d34-4baa-8408-e8b9039e4e7a",
   "metadata": {
    "tags": []
   },
   "outputs": [],
   "source": [
    "def removeDuplicateLetters(s: str) -> str:\n",
    "    # 存放去重的结果\n",
    "    stk = []\n",
    "    # 布尔数组初始值为 false，记录栈中是否存在某个字符\n",
    "    # 输入字符均为 ASCII 字符，所以大小 256 够用了\n",
    "    inStack = [False] * 256\n",
    "\n",
    "    for c in s:\n",
    "        # 如果字符 c 存在栈中，直接跳过\n",
    "        if inStack[ord(c)]:\n",
    "            continue\n",
    "        # 若不存在，则插入栈顶并标记为存在\n",
    "        stk.append(c)\n",
    "        inStack[ord(c)] = True\n",
    "\n",
    "    # 栈中元素插入顺序是反的，需要 reverse 一下\n",
    "    return ''.join(reversed(stk))"
   ]
  },
  {
   "cell_type": "code",
   "execution_count": 116,
   "id": "28021a93-e105-4a11-993a-3e2e59ff65fa",
   "metadata": {
    "tags": []
   },
   "outputs": [
    {
     "data": {
      "text/plain": [
       "'gfedcba'"
      ]
     },
     "execution_count": 116,
     "metadata": {},
     "output_type": "execute_result"
    }
   ],
   "source": [
    "removeDuplicateLetters(\"abcdefg\")"
   ]
  },
  {
   "cell_type": "code",
   "execution_count": 117,
   "id": "84108147-4691-4384-8714-bfa1790bfe66",
   "metadata": {},
   "outputs": [
    {
     "ename": "TypeError",
     "evalue": "heapify() takes no keyword arguments",
     "output_type": "error",
     "traceback": [
      "\u001b[0;31m---------------------------------------------------------------------------\u001b[0m",
      "\u001b[0;31mTypeError\u001b[0m                                 Traceback (most recent call last)",
      "Cell \u001b[0;32mIn[117], line 3\u001b[0m\n\u001b[1;32m      1\u001b[0m \u001b[38;5;28;01mimport\u001b[39;00m \u001b[38;5;21;01mheapq\u001b[39;00m\n\u001b[1;32m      2\u001b[0m tuples \u001b[38;5;241m=\u001b[39m [(\u001b[38;5;241m0\u001b[39m, \u001b[38;5;241m1\u001b[39m), (\u001b[38;5;241m0\u001b[39m, \u001b[38;5;241m5\u001b[39m), (\u001b[38;5;241m0\u001b[39m, \u001b[38;5;241m3\u001b[39m), (\u001b[38;5;241m2\u001b[39m, \u001b[38;5;241m9\u001b[39m), (\u001b[38;5;241m2\u001b[39m, \u001b[38;5;241m6\u001b[39m)]\n\u001b[0;32m----> 3\u001b[0m \u001b[43mheapq\u001b[49m\u001b[38;5;241;43m.\u001b[39;49m\u001b[43mheapify\u001b[49m\u001b[43m(\u001b[49m\u001b[43mtuples\u001b[49m\u001b[43m,\u001b[49m\u001b[43m \u001b[49m\u001b[43mkey\u001b[49m\u001b[38;5;241;43m=\u001b[39;49m\u001b[38;5;28;43;01mlambda\u001b[39;49;00m\u001b[43m \u001b[49m\u001b[43mx\u001b[49m\u001b[43m:\u001b[49m\u001b[43m \u001b[49m\u001b[43m(\u001b[49m\u001b[43mx\u001b[49m\u001b[43m[\u001b[49m\u001b[38;5;241;43m0\u001b[39;49m\u001b[43m]\u001b[49m\u001b[43m,\u001b[49m\u001b[43m \u001b[49m\u001b[38;5;241;43m-\u001b[39;49m\u001b[43mx\u001b[49m\u001b[43m[\u001b[49m\u001b[38;5;241;43m1\u001b[39;49m\u001b[43m]\u001b[49m\u001b[43m)\u001b[49m\u001b[43m)\u001b[49m\n\u001b[1;32m      4\u001b[0m sorted_tuples \u001b[38;5;241m=\u001b[39m []\n\u001b[1;32m      5\u001b[0m \u001b[38;5;28;01mwhile\u001b[39;00m tuples:\n",
      "\u001b[0;31mTypeError\u001b[0m: heapify() takes no keyword arguments"
     ]
    }
   ],
   "source": [
    "import heapq\n",
    "tuples = [(0, 1), (0, 5), (0, 3), (2, 9), (2, 6)]\n",
    "heapq.heapify(tuples, key=lambda x: (x[0], -x[1]))\n",
    "sorted_tuples = []\n",
    "while tuples:\n",
    "    sorted_tuples.append(heapq.heappop(tuples))\n",
    "print(sorted_tuples)\n",
    "# -> [(0, 5), (0, 3), (0, 1), (2, 9), (2, 6)]\n"
   ]
  },
  {
   "cell_type": "code",
   "execution_count": 120,
   "id": "39dec489-952a-4296-8d0c-f1d8b2780dad",
   "metadata": {
    "tags": []
   },
   "outputs": [
    {
     "name": "stdout",
     "output_type": "stream",
     "text": [
      "[(0, 5), (0, 3), (0, 1), (2, 9), (2, 6)]\n"
     ]
    }
   ],
   "source": [
    "class CustomTuple:\n",
    "    def __init__(self, tup):\n",
    "        self.tup = tup\n",
    "    \n",
    "    def __lt__(self, other):\n",
    "        return (self.tup[0], -self.tup[1]) < (other.tup[0], -other.tup[1])\n",
    "\n",
    "tuples = [(0, 1), (0, 5), (0, 3), (2, 9), (2, 6)]\n",
    "tuples = [CustomTuple(t) for t in tuples]\n",
    "heapq.heapify(tuples)\n",
    "sorted_tuples = []\n",
    "while tuples:\n",
    "    sorted_tuples.append(heapq.heappop(tuples).tup)\n",
    "print(sorted_tuples)"
   ]
  },
  {
   "cell_type": "code",
   "execution_count": 123,
   "id": "be44a3ef-19f6-42be-9f5a-80e8bab13924",
   "metadata": {},
   "outputs": [
    {
     "ename": "SyntaxError",
     "evalue": "no binding for nonlocal 'timestamp' found (2552101161.py, line 5)",
     "output_type": "error",
     "traceback": [
      "\u001b[0;36m  Cell \u001b[0;32mIn[123], line 5\u001b[0;36m\u001b[0m\n\u001b[0;31m    nonlocal timestamp\u001b[0m\n\u001b[0m    ^\u001b[0m\n\u001b[0;31mSyntaxError\u001b[0m\u001b[0;31m:\u001b[0m no binding for nonlocal 'timestamp' found\n"
     ]
    }
   ],
   "source": [
    "class Twitter:\n",
    "\n",
    "    class Tweet:\n",
    "        def __init__(self):\n",
    "            nonlocal timestamp\n",
    "            self.twitter_id = timestamp\n",
    "\n",
    "    def __init__(self):\n",
    "        self.timestamp = 0\n",
    "        timestamp = self.timpstamp\n",
    "\n",
    "\n",
    "\n",
    "    def postTweet(self, userId: int, tweetId: int) -> None:\n",
    "        t = Tweet()\n",
    "        self.timestamp += 1\n",
    "        t2 = Tweet()\n",
    "        print(t.twitter_id, t2.twitter_id)\n",
    "        \n",
    "T = Twitter()\n",
    "T.postTweet(1, 2)"
   ]
  },
  {
   "cell_type": "code",
   "execution_count": 125,
   "id": "e98cb18a-bc7e-45ff-83f5-3728d5a38b7b",
   "metadata": {
    "tags": []
   },
   "outputs": [],
   "source": [
    "d = {1, 2,3, 4,}"
   ]
  },
  {
   "cell_type": "code",
   "execution_count": 126,
   "id": "1a1aeaee-7014-4e37-948f-68547c2d4632",
   "metadata": {
    "tags": []
   },
   "outputs": [
    {
     "data": {
      "text/plain": [
       "4"
      ]
     },
     "execution_count": 126,
     "metadata": {},
     "output_type": "execute_result"
    }
   ],
   "source": [
    "len(d)"
   ]
  },
  {
   "cell_type": "code",
   "execution_count": null,
   "id": "6b87a168-a7d4-4de4-ab85-f77cc628800e",
   "metadata": {},
   "outputs": [],
   "source": [
    "# 阿里巴巴\n",
    "import sys\n",
    "\n",
    "for line in sys.stdin:\n",
    "    a = line.split()\n",
    "    print(int(a[0]) + int(a[1]))\n",
    "\n",
    "# mn = list(input(\"\"))\n",
    "m, n = map(int, input(\"\").split())\n",
    "def dfs(m, n, i, start, res, path):\n",
    "    path.append(i)\n",
    "    if start == m:\n",
    "        res.append(path[:])\n",
    "    for x in range(i + 1, n):\n",
    "        dfs(m, n, x, start + 1, res, path)\n",
    "    path.pop()\n",
    "res = []\n",
    "path = []\n",
    "dfs(m, n, 0, 0, res, path)\n",
    "print(res)\n",
    "# for ans in res:\n",
    "#     for num in ans:\n",
    "#         print(num, end = \" \")\n",
    "#     print(f\"\\b\\n\")"
   ]
  },
  {
   "cell_type": "code",
   "execution_count": 127,
   "id": "40c6888b-7b7f-4c2e-803d-13402987380a",
   "metadata": {
    "tags": []
   },
   "outputs": [],
   "source": [
    "a = 223 * 0.15"
   ]
  },
  {
   "cell_type": "code",
   "execution_count": 128,
   "id": "cc587ac6-bbf4-4301-933f-bc415d12c0d1",
   "metadata": {
    "tags": []
   },
   "outputs": [
    {
     "data": {
      "text/plain": [
       "33.449999999999996"
      ]
     },
     "execution_count": 128,
     "metadata": {},
     "output_type": "execute_result"
    }
   ],
   "source": [
    "a\n"
   ]
  },
  {
   "cell_type": "code",
   "execution_count": 129,
   "id": "3e971f7c-abfb-4c5b-b781-76d63a6b0cc1",
   "metadata": {
    "tags": []
   },
   "outputs": [],
   "source": [
    "b = 503*0.15"
   ]
  },
  {
   "cell_type": "code",
   "execution_count": 130,
   "id": "b6698fcb-9997-4716-a81c-860fad671973",
   "metadata": {
    "tags": []
   },
   "outputs": [
    {
     "data": {
      "text/plain": [
       "75.45"
      ]
     },
     "execution_count": 130,
     "metadata": {},
     "output_type": "execute_result"
    }
   ],
   "source": [
    "b"
   ]
  },
  {
   "cell_type": "code",
   "execution_count": 131,
   "id": "0ca97fde-6f29-4438-a7fb-96d32e503173",
   "metadata": {
    "tags": []
   },
   "outputs": [
    {
     "name": "stdout",
     "output_type": "stream",
     "text": [
      "108\n"
     ]
    }
   ],
   "source": [
    "print(int(a)+ int(b))"
   ]
  },
  {
   "cell_type": "code",
   "execution_count": 132,
   "id": "63c5b3a2-41e3-425c-9a9a-444622138336",
   "metadata": {
    "tags": []
   },
   "outputs": [],
   "source": [
    "a = (223+323+180) * 0.15"
   ]
  },
  {
   "cell_type": "code",
   "execution_count": null,
   "id": "7dea233e-9128-40a2-9c2e-16ab70ac4ca4",
   "metadata": {},
   "outputs": [],
   "source": []
  },
  {
   "cell_type": "code",
   "execution_count": 133,
   "id": "e5f345f1-5ab4-4e99-8d07-9a9b3909b769",
   "metadata": {
    "tags": []
   },
   "outputs": [
    {
     "data": {
      "text/plain": [
       "108.89999999999999"
      ]
     },
     "execution_count": 133,
     "metadata": {},
     "output_type": "execute_result"
    }
   ],
   "source": [
    "a"
   ]
  },
  {
   "cell_type": "code",
   "execution_count": 134,
   "id": "ed8c435e-c831-4ef9-bd48-c321c161fce2",
   "metadata": {
    "tags": []
   },
   "outputs": [
    {
     "name": "stdin",
     "output_type": "stream",
     "text": [
      " 3\n",
      " 1 0 223\n",
      " 2 0 323\n",
      " 3 2 1203\n"
     ]
    },
    {
     "name": "stdout",
     "output_type": "stream",
     "text": [
      "0 105\n"
     ]
    }
   ],
   "source": [
    "num_agents = int(input())\n",
    "\n",
    "# 代理商收入字典：key是代理商ID，value是该代理商的收入\n",
    "agent_income = {}\n",
    "\n",
    "# 代理商列表：记录所有代理商的ID\n",
    "all_agents = []\n",
    "\n",
    "# key是子代理商ID，value是其父代理商ID\n",
    "child_to_parent = {}\n",
    "\n",
    "# key是父代理商ID，value是其所有子代理商的ID列表\n",
    "parent_to_children = {}\n",
    "\n",
    "for _ in range(num_agents):\n",
    "    child_id, parent_id, income = map(int, input().split())\n",
    "    \n",
    "    agent_income[child_id] = income\n",
    "\n",
    "    all_agents.append(child_id)\n",
    "    all_agents.append(parent_id)\n",
    "\n",
    "    child_to_parent[child_id] = parent_id\n",
    "\n",
    "    if parent_id not in parent_to_children:\n",
    "        parent_to_children[parent_id] = []\n",
    "    parent_to_children[parent_id].append(child_id)\n",
    "\n",
    "\n",
    "def calculate_income(agent_id):\n",
    "    children = parent_to_children.get(agent_id, [])\n",
    "\n",
    "    for child_id in children:\n",
    "        calculate_income(child_id)\n",
    "        agent_income[agent_id] += agent_income[child_id] // 100 * 15\n",
    "\n",
    "\n",
    "for agent_id in all_agents:\n",
    "    if agent_id not in child_to_parent:  \n",
    "        agent_income[agent_id] = 0\n",
    "        calculate_income(agent_id)\n",
    "        print(f\"{agent_id} {agent_income[agent_id]}\")\n",
    "        break\n",
    "\n",
    "\n"
   ]
  },
  {
   "cell_type": "code",
   "execution_count": 135,
   "id": "07ae2897-b6d6-4085-9e42-3cfe6010cf66",
   "metadata": {
    "tags": []
   },
   "outputs": [],
   "source": [
    "a = hex(17)"
   ]
  },
  {
   "cell_type": "code",
   "execution_count": 136,
   "id": "3e9cc052-0809-47b5-b34f-6a304691cfc6",
   "metadata": {
    "tags": []
   },
   "outputs": [
    {
     "data": {
      "text/plain": [
       "'0x11'"
      ]
     },
     "execution_count": 136,
     "metadata": {},
     "output_type": "execute_result"
    }
   ],
   "source": [
    "a"
   ]
  },
  {
   "cell_type": "code",
   "execution_count": 137,
   "id": "98945306-7786-4f11-823f-443633ffcbae",
   "metadata": {
    "tags": []
   },
   "outputs": [
    {
     "data": {
      "text/plain": [
       "str"
      ]
     },
     "execution_count": 137,
     "metadata": {},
     "output_type": "execute_result"
    }
   ],
   "source": [
    "type(a)"
   ]
  },
  {
   "cell_type": "code",
   "execution_count": 139,
   "id": "889f02c4-32aa-4769-a0e0-e246c8a63b81",
   "metadata": {
    "tags": []
   },
   "outputs": [],
   "source": [
    "b = int(a, 16)"
   ]
  },
  {
   "cell_type": "code",
   "execution_count": 140,
   "id": "3e277de5-86f0-4339-b44a-096f6b2e8e1b",
   "metadata": {
    "tags": []
   },
   "outputs": [
    {
     "data": {
      "text/plain": [
       "17"
      ]
     },
     "execution_count": 140,
     "metadata": {},
     "output_type": "execute_result"
    }
   ],
   "source": [
    "b"
   ]
  },
  {
   "cell_type": "code",
   "execution_count": 141,
   "id": "5bce679d-c198-4e29-80bf-7663fd41bf82",
   "metadata": {
    "tags": []
   },
   "outputs": [
    {
     "name": "stdout",
     "output_type": "stream",
     "text": [
      "0o11\n"
     ]
    }
   ],
   "source": [
    "print(oct(9))"
   ]
  },
  {
   "cell_type": "code",
   "execution_count": 145,
   "id": "c5861420-2176-4e48-b4da-aaf57f6b4e8c",
   "metadata": {},
   "outputs": [
    {
     "name": "stdout",
     "output_type": "stream",
     "text": [
      "140672161346480\n"
     ]
    }
   ],
   "source": [
    "s = \"123asd\"\n",
    "print(id(s))"
   ]
  },
  {
   "cell_type": "code",
   "execution_count": 147,
   "id": "4b40b1f3-77dd-4978-bdaa-dd5cfa448029",
   "metadata": {
    "tags": []
   },
   "outputs": [
    {
     "name": "stdout",
     "output_type": "stream",
     "text": [
      "140672161346481\n"
     ]
    }
   ],
   "source": [
    "print(id(s) + 1)"
   ]
  },
  {
   "cell_type": "code",
   "execution_count": 148,
   "id": "80bd316a-8594-4801-a99c-47f3c7ec43aa",
   "metadata": {
    "tags": []
   },
   "outputs": [
    {
     "name": "stdout",
     "output_type": "stream",
     "text": [
      "True\n",
      "True\n",
      "True\n",
      "False\n"
     ]
    }
   ],
   "source": [
    "class A:\n",
    "    pass\n",
    "\n",
    "class B(A):\n",
    "    pass\n",
    "\n",
    "b = B()\n",
    "print(isinstance(b, B))\n",
    "print(isinstance(b, A))\n",
    "\n",
    "# is 判断 id 的意思\n",
    "print(type(b) is B)\n",
    "print(type(b) is A)     # False"
   ]
  },
  {
   "cell_type": "code",
   "execution_count": 150,
   "id": "298dc5f6-fe25-4e31-8811-bc28185ec3bd",
   "metadata": {
    "tags": []
   },
   "outputs": [
    {
     "name": "stdout",
     "output_type": "stream",
     "text": [
      "<class '__main__.B'>\n",
      "<class '__main__.A'>\n"
     ]
    }
   ],
   "source": [
    "print(type(b))\n",
    "print(type(A()))"
   ]
  },
  {
   "cell_type": "code",
   "execution_count": 151,
   "id": "02b2d3f6-ba41-4727-8ad5-5a04846fcbdc",
   "metadata": {
    "tags": []
   },
   "outputs": [
    {
     "name": "stdout",
     "output_type": "stream",
     "text": [
      "2 3 1\n",
      "111 100\n"
     ]
    }
   ],
   "source": [
    "class A:\n",
    "    aa = 1\n",
    "\n",
    "    def __init__(self, x, y):\n",
    "        self.x = x\n",
    "        self.y = y\n",
    "\n",
    "\n",
    "a = A(2, 3)\n",
    "print(a.x, a.y, A.aa)\n",
    "\n",
    "A.aa = 111\n",
    "a.aa = 100  # 新建一个a的属性aa， 100赋值给该aa\n",
    "print(A.aa, a.aa)"
   ]
  },
  {
   "cell_type": "code",
   "execution_count": 152,
   "id": "10e60d70-9fb1-4cc2-921e-0dd7c4e475e8",
   "metadata": {
    "tags": []
   },
   "outputs": [
    {
     "name": "stdout",
     "output_type": "stream",
     "text": [
      "18\n",
      "18\n"
     ]
    }
   ],
   "source": [
    "class User:\n",
    "    def __init__(self):\n",
    "        self.__age = 18\n",
    "\n",
    "    def get_age(self):\n",
    "        return self.__age\n",
    "\n",
    "if __name__ == '__main__':\n",
    "    user = User()\n",
    "    print(user.get_age())\n",
    "\n",
    "    # print(user.__age)\n",
    "\n",
    "    # _class__attr, 做了变形\n",
    "    print(user._User__age)"
   ]
  },
  {
   "cell_type": "code",
   "execution_count": 159,
   "id": "4dd2344e-bf79-43fd-9b50-d38737a1820e",
   "metadata": {
    "tags": []
   },
   "outputs": [
    {
     "name": "stdout",
     "output_type": "stream",
     "text": [
      "18\n",
      "['_User__age', '__class__', '__delattr__', '__dict__', '__dir__', '__doc__', '__eq__', '__format__', '__ge__', '__getattribute__', '__gt__', '__hash__', '__init__', '__init_subclass__', '__le__', '__lt__', '__module__', '__ne__', '__new__', '__reduce__', '__reduce_ex__', '__repr__', '__setattr__', '__sizeof__', '__str__', '__subclasshook__', '__weakref__', 'get_age']\n",
      "<__main__.User object at 0x7ff0ca34af10>\n"
     ]
    }
   ],
   "source": [
    "print(user._User__age)\n",
    "print(dir(user))\n",
    "print(user)"
   ]
  },
  {
   "cell_type": "code",
   "execution_count": 161,
   "id": "faa1da13-a0d0-46e4-8df7-2aa418b86519",
   "metadata": {
    "tags": []
   },
   "outputs": [
    {
     "name": "stdout",
     "output_type": "stream",
     "text": [
      "{'school_name': 'school'}\n",
      "{'school_name': 'school', 'age': 18}\n",
      "['__class__', '__delattr__', '__dict__', '__dir__', '__doc__', '__eq__', '__format__', '__ge__', '__getattribute__', '__gt__', '__hash__', '__init__', '__init_subclass__', '__le__', '__lt__', '__module__', '__ne__', '__new__', '__reduce__', '__reduce_ex__', '__repr__', '__setattr__', '__sizeof__', '__str__', '__subclasshook__', '__weakref__', 'age', 'name', 'school_name']\n"
     ]
    }
   ],
   "source": [
    "class User:\n",
    "    name = 'user'\n",
    "\n",
    "class Student(User):\n",
    "    def __init__(self):\n",
    "        self.school_name = 'school'\n",
    "\n",
    "if __name__ == '__main__':\n",
    "    stu = Student()\n",
    "\n",
    "    # 通过__dict__ 查询属性, C语言实现，经过优化，较快\n",
    "    print(stu.__dict__)\n",
    "    stu.__dict__['age'] = 18\n",
    "    print(stu.__dict__)\n",
    "    # print(stu.age)\n",
    "\n",
    "    # print(User.__dict__)\n",
    "\n",
    "    print(dir(stu))"
   ]
  },
  {
   "cell_type": "code",
   "execution_count": 163,
   "id": "6f0d1f82-8e64-40db-bddc-891b4d56c635",
   "metadata": {
    "tags": []
   },
   "outputs": [],
   "source": [
    "# 元素类型任意\n",
    "my_list = list()\n",
    "my_list.append(100)\n",
    "my_list.append(True)\n",
    "\n",
    "# 指定元素类型\n",
    "import array\n",
    "my_array = array.array('i')\n",
    "my_array.append(100)\n",
    "# 初始化数组需要整型，附加字符串抛异常\n",
    "# my_array.append('abc')"
   ]
  },
  {
   "cell_type": "code",
   "execution_count": 164,
   "id": "764e35bb-198d-415f-a5ba-e79d26e248a7",
   "metadata": {
    "tags": []
   },
   "outputs": [
    {
     "name": "stdout",
     "output_type": "stream",
     "text": [
      "array('i', [100])\n"
     ]
    }
   ],
   "source": [
    "print(my_array)"
   ]
  },
  {
   "cell_type": "code",
   "execution_count": null,
   "id": "156be8d5-cf80-4c74-ae72-0d3eec3d06e6",
   "metadata": {},
   "outputs": [],
   "source": []
  }
 ],
 "metadata": {
  "kernelspec": {
   "display_name": "Python 3 (ipykernel)",
   "language": "python",
   "name": "python3"
  },
  "language_info": {
   "codemirror_mode": {
    "name": "ipython",
    "version": 3
   },
   "file_extension": ".py",
   "mimetype": "text/x-python",
   "name": "python",
   "nbconvert_exporter": "python",
   "pygments_lexer": "ipython3",
   "version": "3.8.10"
  }
 },
 "nbformat": 4,
 "nbformat_minor": 5
}
