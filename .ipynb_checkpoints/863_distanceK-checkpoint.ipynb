{
 "cells": [
  {
   "cell_type": "code",
   "execution_count": 3,
   "id": "c25e494b-954b-45f9-9d34-90dce804ccc8",
   "metadata": {
    "tags": []
   },
   "outputs": [
    {
     "data": {
      "text/plain": [
       "'\\n一直没有过的一个测试用例是：\\n[0,1,null,null,2,null,3,null,4]\\n3\\n0\\n输出：\\nnull\\n预期结果：\\n[3]\\n\\n另一个例子是，结果需要返回[]，结果返回的是null\\n'"
      ]
     },
     "execution_count": 3,
     "metadata": {},
     "output_type": "execute_result"
    }
   ],
   "source": [
    "# Definition for a binary tree node.\n",
    "class TreeNode:\n",
    "    def __init__(self, x):\n",
    "        self.val = x\n",
    "        self.left = None\n",
    "        self.right = None\n",
    "\n",
    "def distanceK(root: TreeNode, target: TreeNode, k: int) ->  [int]:\n",
    "    graph = defaultdict(list)\n",
    "    p = root\n",
    "    queue = []\n",
    "    queue.append(p)\n",
    "    while queue:       # 出错的地方还在于建立graph的方式忽略了节点为null这种情况，示例使用递归建图，通过\n",
    "        p = queue.pop(0)\n",
    "        if p.left: \n",
    "            graph[p.val].append(p.left.val)\n",
    "            graph[p.left.val].append(p.val)\n",
    "            queue.append(p.left)\n",
    "        if p.right:\n",
    "            graph[p.val].append(p.right.val)\n",
    "            graph[p.right.val].append(p.val)\n",
    "            queue.append(p.right)\n",
    "    queue = [target.val]\n",
    "    visited = set([target.val])\n",
    "    # print(graph)\n",
    "    d = 0\n",
    "    selected = []\n",
    "    if k == 0:\n",
    "        return selected.append(target.val)   # 注意特殊情况的考虑\n",
    "    while queue and k:\n",
    "        # curr = queue.pop(0) # 出错的关键在于遍历的方式：逐层遍历，逐层得到邻居curr_list\n",
    "        curr_list = []\n",
    "        for curr in queue:\n",
    "            for neighbor in graph[curr]:\n",
    "                if neighbor not in visited:\n",
    "                    # queue.append(neighbor)\n",
    "                    visited.add(neighbor) \n",
    "                    curr_list.append(neighbor)\n",
    "        k -= 1\n",
    "        queue = curr_list\n",
    "    return queue\n",
    "\n",
    "'''\n",
    "一直没有过的一个测试用例是：\n",
    "[0,1,null,null,2,null,3,null,4]\n",
    "3\n",
    "0\n",
    "输出：\n",
    "null\n",
    "预期结果：\n",
    "[3]\n",
    "\n",
    "另一个例子是，结果需要返回[]，结果返回的是null\n",
    "'''"
   ]
  },
  {
   "cell_type": "code",
   "execution_count": 4,
   "id": "7a9f0bb2-cc0d-454d-9ee3-9215c34c5c3e",
   "metadata": {
    "tags": []
   },
   "outputs": [
    {
     "ename": "NameError",
     "evalue": "name 'null' is not defined",
     "output_type": "error",
     "traceback": [
      "\u001b[0;31m---------------------------------------------------------------------------\u001b[0m",
      "\u001b[0;31mNameError\u001b[0m                                 Traceback (most recent call last)",
      "Cell \u001b[0;32mIn[4], line 1\u001b[0m\n\u001b[0;32m----> 1\u001b[0m \u001b[38;5;28mprint\u001b[39m(distanceK([\u001b[38;5;241m0\u001b[39m,\u001b[38;5;241m1\u001b[39m,\u001b[43mnull\u001b[49m,null,\u001b[38;5;241m2\u001b[39m,null,\u001b[38;5;241m3\u001b[39m,null,\u001b[38;5;241m4\u001b[39m], \u001b[38;5;241m3\u001b[39m, \u001b[38;5;241m0\u001b[39m))\n",
      "\u001b[0;31mNameError\u001b[0m: name 'null' is not defined"
     ]
    }
   ],
   "source": [
    "print(distanceK([0,1,null,null,2,null,3,null,4], 3, 0))"
   ]
  },
  {
   "cell_type": "code",
   "execution_count": 5,
   "id": "55c9c9df-f8c1-449e-a21c-8902e148a089",
   "metadata": {
    "tags": []
   },
   "outputs": [
    {
     "ename": "NameError",
     "evalue": "name 'null' is not defined",
     "output_type": "error",
     "traceback": [
      "\u001b[0;31m---------------------------------------------------------------------------\u001b[0m",
      "\u001b[0;31mNameError\u001b[0m                                 Traceback (most recent call last)",
      "Cell \u001b[0;32mIn[5], line 1\u001b[0m\n\u001b[0;32m----> 1\u001b[0m \u001b[43mnull\u001b[49m\n",
      "\u001b[0;31mNameError\u001b[0m: name 'null' is not defined"
     ]
    }
   ],
   "source": [
    "null\n"
   ]
  },
  {
   "cell_type": "code",
   "execution_count": 6,
   "id": "c991b35e-529d-49d3-b45c-ddfd29f60536",
   "metadata": {
    "tags": []
   },
   "outputs": [],
   "source": [
    "None"
   ]
  },
  {
   "cell_type": "code",
   "execution_count": null,
   "id": "04647e82-2870-4e90-b893-9d75fdfa8078",
   "metadata": {},
   "outputs": [],
   "source": []
  }
 ],
 "metadata": {
  "kernelspec": {
   "display_name": "Python 3 (ipykernel)",
   "language": "python",
   "name": "python3"
  },
  "language_info": {
   "codemirror_mode": {
    "name": "ipython",
    "version": 3
   },
   "file_extension": ".py",
   "mimetype": "text/x-python",
   "name": "python",
   "nbconvert_exporter": "python",
   "pygments_lexer": "ipython3",
   "version": "3.8.10"
  }
 },
 "nbformat": 4,
 "nbformat_minor": 5
}
